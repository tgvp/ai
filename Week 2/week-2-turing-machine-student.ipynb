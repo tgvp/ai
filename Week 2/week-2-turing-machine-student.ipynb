{
 "cells": [
  {
   "cell_type": "markdown",
   "id": "3b961fbd",
   "metadata": {},
   "source": [
    "\n",
    "# **Máquina de Turing: Implementação Passo a Passo**\n",
    "## Introdução\n",
    "\n",
    "A **Máquina de Turing** é um modelo teórico de computação criado por Alan Turing em 1936.  \n",
    "Ela é composta por uma fita infinita dividida em células, um ponteiro de leitura/escrita e um conjunto de regras de transição.\n",
    "\n",
    "### **Componentes principais:**\n",
    "1. **Fita**: Um conjunto de células que podem conter símbolos.\n",
    "2. **Ponteiro de Leitura/Escrita**: Um cursor que lê e modifica a fita.\n",
    "3. **Estados**: A máquina possui um estado atual e segue regras de transição.\n",
    "4. **Regras de Transição**: Um conjunto de instruções que definem como a máquina reage a diferentes símbolos.\n",
    "\n",
    "Neste notebook, implementaremos uma **Máquina de Turing simples** passo a passo, explicando cada etapa e testando o funcionamento da máquina conforme avançamos.\n",
    "    "
   ]
  },
  {
   "cell_type": "markdown",
   "id": "190ea79e",
   "metadata": {},
   "source": [
    "## **Importando Bibliotecas**"
   ]
  },
  {
   "cell_type": "code",
   "execution_count": 1,
   "id": "6311e3b1",
   "metadata": {},
   "outputs": [],
   "source": [
    "import pandas as pd"
   ]
  },
  {
   "cell_type": "markdown",
   "id": "18e776f7",
   "metadata": {},
   "source": [
    "\n",
    "## **Criando a Classe da Máquina de Turing**\n",
    "\n",
    "A Máquina de Turing será representada por uma classe `TuringMachine`.  \n",
    "Ela possui três elementos principais:\n",
    "- A **fita** (`tape`): onde os dados são armazenados.\n",
    "- O **Ponteiro** (`head_position`): que se move para a esquerda ou para a direita.\n",
    "- O **estado atual** (`state`): que define a ação a ser executada.\n",
    "\n",
    "Abaixo, definimos essa estrutura.\n",
    "    "
   ]
  },
  {
   "cell_type": "code",
   "execution_count": 2,
   "id": "e87d47ec",
   "metadata": {},
   "outputs": [],
   "source": []
  },
  {
   "cell_type": "markdown",
   "id": "32f39a89",
   "metadata": {},
   "source": [
    "### **Teste 1: Criando um objeto da Máquina de Turing**"
   ]
  },
  {
   "cell_type": "code",
   "execution_count": null,
   "id": "fb588bbf",
   "metadata": {},
   "outputs": [],
   "source": [
    "\n",
    "# Criando uma fita de teste\n",
    "tape = ['0', '1', 'B', '0', '1']\n",
    "    "
   ]
  },
  {
   "cell_type": "markdown",
   "id": "b4b5e0f4",
   "metadata": {},
   "source": [
    "\n",
    "## **Visualizando o Estado da Máquina**\n",
    "\n",
    "Criamos um método para exibir o estado da fita e do Ponteiro em um formato mais intuitivo.\n",
    "    "
   ]
  },
  {
   "cell_type": "code",
   "execution_count": 4,
   "id": "993b55a3",
   "metadata": {},
   "outputs": [],
   "source": [
    "    "
   ]
  },
  {
   "cell_type": "markdown",
   "id": "0a66eaf9",
   "metadata": {},
   "source": [
    "### **Teste 2: Exibindo a fita e a posição do Ponteiro**"
   ]
  },
  {
   "cell_type": "code",
   "execution_count": 5,
   "id": "d9ce5a54",
   "metadata": {},
   "outputs": [
    {
     "name": "stdout",
     "output_type": "stream",
     "text": [
      "01B01\n",
      "^\n",
      "State: q0\n",
      "\n"
     ]
    }
   ],
   "source": [
    "machine = TuringMachine(tape, initial_position, initial_state)\n",
    "machine.display()"
   ]
  },
  {
   "cell_type": "markdown",
   "id": "8b48af41",
   "metadata": {},
   "source": [
    "\n",
    "## **Movendo o Ponteiro**\n",
    "\n",
    "Agora, implementamos um método que permite que o Ponteiro se mova para a esquerda (`L`) ou para a direita (`R`).\n",
    "    "
   ]
  },
  {
   "cell_type": "code",
   "execution_count": 6,
   "id": "ef47eaae",
   "metadata": {},
   "outputs": [],
   "source": [
    "    "
   ]
  },
  {
   "cell_type": "markdown",
   "id": "86da7754",
   "metadata": {},
   "source": [
    "### **Teste 3: Movendo o Ponteiro para a direita e para a esquerda**"
   ]
  },
  {
   "cell_type": "code",
   "execution_count": 7,
   "id": "7949eeb0",
   "metadata": {},
   "outputs": [
    {
     "name": "stdout",
     "output_type": "stream",
     "text": [
      "Tape: 01B01\n",
      "      ^\n",
      "State: q0\n",
      "\n",
      "Movendo para a direita\n",
      "Tape: 01B01\n",
      "       ^\n",
      "State: q0\n",
      "\n",
      "Movendo para a esquerda\n",
      "Tape: 01B01\n",
      "      ^\n",
      "State: q0\n",
      "\n"
     ]
    }
   ],
   "source": [
    "\n",
    "machine = TuringMachine(tape, initial_position, initial_state)\n",
    "machine.display()\n",
    "\n",
    "print(\"Movendo para a direita\")\n",
    "machine.move_head('R')\n",
    "machine.display()\n",
    "\n",
    "print(\"Movendo para a esquerda\")\n",
    "machine.move_head('L')\n",
    "machine.display()\n",
    "    "
   ]
  },
  {
   "cell_type": "markdown",
   "id": "6563d808",
   "metadata": {},
   "source": [
    "\n",
    "## **Definindo as Regras de Transição**\n",
    "\n",
    "Cada regra define:\n",
    "- O símbolo lido na fita.\n",
    "- O estado atual da máquina.\n",
    "- O símbolo que será escrito na fita.\n",
    "- O movimento do Ponteiro (`L` para esquerda, `R` para direita).\n",
    "- O novo estado após a transição.\n",
    "\n",
    "O programa será carregado a partir de um arquivo CSV.\n",
    "    "
   ]
  },
  {
   "cell_type": "markdown",
   "metadata": {},
   "source": [
    "### **Fita Inicial**\n",
    "A fita contém a seguinte sequência de símbolos:\n",
    "```\n",
    "['0', '1', 'B', '0', '1']\n",
    "```\n",
    "Cada célula pode conter um símbolo, e a máquina inicia a leitura a partir do primeiro símbolo (`0`).\n",
    "\n",
    "### **Objetivo da Máquina**\n",
    "A Máquina de Turing percorre a fita e substitui `0` e `1` por `_` até encontrar um espaço em branco (`B`). Quando encontra `B`, escreve `0`, move-se para a esquerda e entra no estado final `qf`.\n",
    "\n",
    "### **Regras de Transição**\n",
    "A máquina segue as seguintes regras:\n",
    "\n",
    "| Símbolo Atual | Estado Atual | Novo Símbolo | Movimento | Novo Estado |\n",
    "|--------------|-------------|-------------|-----------|------------|\n",
    "| 0            | q0          | _           | R         | q1         |\n",
    "| 0            | q1          | _           | R         | q0         |\n",
    "| 1            | q0          | _           | R         | q0         |\n",
    "| 1            | q1          | _           | R         | q1         |\n",
    "| B            | q0          | 0           | L         | qf         |\n",
    "| B            | q1          | 1           | L         | qf         |\n",
    "\n",
    "### **Resultado Esperado**\n",
    "Após a execução, a fita deve conter:\n",
    "```\n",
    "['_', '_', '1', '0', '1']\n",
    "```"
   ]
  },
  {
   "cell_type": "code",
   "execution_count": 8,
   "id": "b5e82419",
   "metadata": {},
   "outputs": [
    {
     "name": "stdout",
     "output_type": "stream",
     "text": [
      "Regras de transição carregadas:\n"
     ]
    },
    {
     "data": {
      "text/html": [
       "<div>\n",
       "<style scoped>\n",
       "    .dataframe tbody tr th:only-of-type {\n",
       "        vertical-align: middle;\n",
       "    }\n",
       "\n",
       "    .dataframe tbody tr th {\n",
       "        vertical-align: top;\n",
       "    }\n",
       "\n",
       "    .dataframe thead th {\n",
       "        text-align: right;\n",
       "    }\n",
       "</style>\n",
       "<table border=\"1\" class=\"dataframe\">\n",
       "  <thead>\n",
       "    <tr style=\"text-align: right;\">\n",
       "      <th></th>\n",
       "      <th>symbol</th>\n",
       "      <th>state</th>\n",
       "      <th>write</th>\n",
       "      <th>move</th>\n",
       "      <th>new-state</th>\n",
       "    </tr>\n",
       "  </thead>\n",
       "  <tbody>\n",
       "    <tr>\n",
       "      <th>0</th>\n",
       "      <td>0</td>\n",
       "      <td>q0</td>\n",
       "      <td>_</td>\n",
       "      <td>R</td>\n",
       "      <td>q1</td>\n",
       "    </tr>\n",
       "    <tr>\n",
       "      <th>1</th>\n",
       "      <td>0</td>\n",
       "      <td>q1</td>\n",
       "      <td>_</td>\n",
       "      <td>R</td>\n",
       "      <td>q0</td>\n",
       "    </tr>\n",
       "    <tr>\n",
       "      <th>2</th>\n",
       "      <td>1</td>\n",
       "      <td>q0</td>\n",
       "      <td>_</td>\n",
       "      <td>R</td>\n",
       "      <td>q0</td>\n",
       "    </tr>\n",
       "    <tr>\n",
       "      <th>3</th>\n",
       "      <td>1</td>\n",
       "      <td>q1</td>\n",
       "      <td>_</td>\n",
       "      <td>R</td>\n",
       "      <td>q1</td>\n",
       "    </tr>\n",
       "    <tr>\n",
       "      <th>4</th>\n",
       "      <td>_</td>\n",
       "      <td>q0</td>\n",
       "      <td>0</td>\n",
       "      <td>L</td>\n",
       "      <td>qf</td>\n",
       "    </tr>\n",
       "    <tr>\n",
       "      <th>5</th>\n",
       "      <td>_</td>\n",
       "      <td>q1</td>\n",
       "      <td>1</td>\n",
       "      <td>L</td>\n",
       "      <td>qf</td>\n",
       "    </tr>\n",
       "    <tr>\n",
       "      <th>6</th>\n",
       "      <td>_</td>\n",
       "      <td>qf</td>\n",
       "      <td>NaN</td>\n",
       "      <td>NaN</td>\n",
       "      <td>NaN</td>\n",
       "    </tr>\n",
       "  </tbody>\n",
       "</table>\n",
       "</div>"
      ],
      "text/plain": [
       "  symbol state write move new-state\n",
       "0      0    q0     _    R        q1\n",
       "1      0    q1     _    R        q0\n",
       "2      1    q0     _    R        q0\n",
       "3      1    q1     _    R        q1\n",
       "4      B    q0     0    L        qf\n",
       "5      B    q1     1    L        qf\n"
      ]
     },
     "metadata": {},
     "output_type": "display_data"
    }
   ],
   "source": [
    "# Carregar o programa via arquivo CSV\n",
    "program = pd.read_csv('./turing-machine-example-program.csv', delimiter=';')\n",
    "\n",
    "# Exibir as regras do programa\n",
    "print(\"Regras de transição carregadas:\")\n",
    "display(program)"
   ]
  },
  {
   "cell_type": "markdown",
   "id": "746393c4",
   "metadata": {},
   "source": [
    "\n",
    "## **Execução da Máquina de Turing**\n",
    "\n",
    "Agora, implementamos um método para executar a máquina até atingir um estado final.\n",
    "    "
   ]
  },
  {
   "cell_type": "code",
   "execution_count": 9,
   "id": "8509c19e",
   "metadata": {},
   "outputs": [
    {
     "name": "stdout",
     "output_type": "stream",
     "text": [
      "Tape: _1B01\n",
      "       ^\n",
      "State: q1\n",
      "\n",
      "Tape: __B01\n",
      "        ^\n",
      "State: q1\n",
      "\n",
      "Nenhuma transição encontrada. Máquina encerrada.\n"
     ]
    }
   ],
   "source": [
    "def run_turing_machine(machine, program):\n",
    "    pass\n",
    "\n",
    "machine = TuringMachine(tape, initial_position, initial_state)\n",
    "run_turing_machine(machine, program)\n",
    "    "
   ]
  },
  {
   "cell_type": "markdown",
   "id": "b92b7fe2",
   "metadata": {},
   "source": [
    "# **Exercício:**\n",
    "    \n",
    "Agora que vimos como funciona uma Máquina de Turing, implemente uma nova versão que realize uma operação diferente.  \n",
    "\n",
    "## **Objetivo**  \n",
    "Crie uma Máquina de Turing que **inverta todos os bits** em uma fita binária. Ou seja:  \n",
    "- `0` deve ser transformado em `1`  \n",
    "- `1` deve ser transformado em `0`  \n",
    "- O Ponteiro deve percorrer toda a fita e parar quando encontrar um espaço em branco (`B`).  \n",
    "\n",
    "## **Passo a Passo**  \n",
    "1. **Defina uma nova fita de entrada**, como: `['0', '1', '1', '0', 'B']`.  \n",
    "2. **Crie uma tabela de transição** que inverta os valores:  \n",
    "   - Se `0` for encontrado, transforme em `1` e mova para a direita.  \n",
    "   - Se `1` for encontrado, transforme em `0` e mova para a direita.  \n",
    "   - Se `B` for encontrado, pare a execução.  \n",
    "3. **Implemente a lógica da máquina**, modificando a classe `TuringMachine`.  \n",
    "4. **Execute a máquina e verifique o resultado esperado:**  \n",
    "\n",
    "Implemente a sua solução no código abaixo:\n",
    "    "
   ]
  },
  {
   "cell_type": "markdown",
   "metadata": {},
   "source": [
    "1. Qual a saída esperada?"
   ]
  },
  {
   "cell_type": "code",
   "execution_count": null,
   "metadata": {},
   "outputs": [],
   "source": []
  },
  {
   "cell_type": "markdown",
   "metadata": {},
   "source": [
    "2. Implemente a sua solução nas células abaixo:"
   ]
  },
  {
   "cell_type": "code",
   "execution_count": null,
   "metadata": {},
   "outputs": [],
   "source": []
  }
 ],
 "metadata": {
  "kernelspec": {
   "display_name": "base",
   "language": "python",
   "name": "python3"
  },
  "language_info": {
   "codemirror_mode": {
    "name": "ipython",
    "version": 3
   },
   "file_extension": ".py",
   "mimetype": "text/x-python",
   "name": "python",
   "nbconvert_exporter": "python",
   "pygments_lexer": "ipython3",
   "version": "3.11.4"
  }
 },
 "nbformat": 4,
 "nbformat_minor": 2
}
