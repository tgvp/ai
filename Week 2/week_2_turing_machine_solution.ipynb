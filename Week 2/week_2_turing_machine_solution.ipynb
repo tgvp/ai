{
  "cells": [
    {
      "cell_type": "markdown",
      "metadata": {
        "id": "3b961fbd"
      },
      "source": [
        "\n",
        "# **Máquina de Turing: Implementação Passo a Passo**\n",
        "## Introdução\n",
        "\n",
        "A **Máquina de Turing** é um modelo teórico de computação criado por Alan Turing em 1936.  \n",
        "Ela é composta por uma fita infinita dividida em células, um ponteiro de leitura/escrita e um conjunto de regras de transição.\n",
        "\n",
        "### **Componentes principais:**\n",
        "1. **Fita**: Um conjunto de células que podem conter símbolos.\n",
        "2. **Ponteiro de Leitura/Escrita**: Um cursor que lê e modifica a fita.\n",
        "3. **Estados**: A máquina possui um estado atual e segue regras de transição.\n",
        "4. **Regras de Transição**: Um conjunto de instruções que definem como a máquina reage a diferentes símbolos.\n",
        "\n",
        "Neste notebook, implementaremos uma **Máquina de Turing simples** passo a passo, explicando cada etapa e testando o funcionamento da máquina conforme avançamos.\n",
        "    "
      ]
    },
    {
      "cell_type": "markdown",
      "metadata": {
        "id": "190ea79e"
      },
      "source": [
        "## **Importando Bibliotecas**"
      ]
    },
    {
      "cell_type": "code",
      "execution_count": 1,
      "metadata": {
        "id": "6311e3b1"
      },
      "outputs": [],
      "source": [
        "import pandas as pd"
      ]
    },
    {
      "cell_type": "markdown",
      "metadata": {
        "id": "18e776f7"
      },
      "source": [
        "\n",
        "## **Criando a Classe da Máquina de Turing**\n",
        "\n",
        "A Máquina de Turing será representada por uma classe `TuringMachine`.  \n",
        "Ela possui três elementos principais:\n",
        "- A **fita** (`tape`): onde os dados são armazenados.\n",
        "- O **Ponteiro** (`head_position`): que se move para a esquerda ou para a direita.\n",
        "- O **estado atual** (`state`): que define a ação a ser executada.\n",
        "\n",
        "Abaixo, definimos essa estrutura.\n",
        "    "
      ]
    },
    {
      "cell_type": "code",
      "execution_count": 2,
      "metadata": {
        "id": "e87d47ec"
      },
      "outputs": [],
      "source": [
        "class TuringMachine:\n",
        "  def __init__(self, tape, initial_position, initial_state):\n",
        "    self.tape = tape\n",
        "    self.head_position = initial_position\n",
        "    self.state = initial_state"
      ]
    },
    {
      "cell_type": "markdown",
      "metadata": {
        "id": "32f39a89"
      },
      "source": [
        "### **Teste 1: Criando um objeto da Máquina de Turing**"
      ]
    },
    {
      "cell_type": "code",
      "execution_count": 3,
      "metadata": {
        "colab": {
          "base_uri": "https://localhost:8080/"
        },
        "id": "fb588bbf",
        "outputId": "94c8ffb9-15be-476b-ae7e-9ec32f5eae98"
      },
      "outputs": [
        {
          "data": {
            "text/plain": [
              "<__main__.TuringMachine at 0x18c7de36790>"
            ]
          },
          "execution_count": 3,
          "metadata": {},
          "output_type": "execute_result"
        }
      ],
      "source": [
        "# Criando uma fita de teste\n",
        "tape = ['0', '1', 'B', '0', '1']\n",
        "initial_position = 0\n",
        "initial_state = 'q0'\n",
        "\n",
        "machine = TuringMachine(tape, initial_position, initial_state)\n",
        "machine"
      ]
    },
    {
      "cell_type": "markdown",
      "metadata": {
        "id": "b4b5e0f4"
      },
      "source": [
        "\n",
        "## **Visualizando o Estado da Máquina**\n",
        "\n",
        "Criamos um método para exibir o estado da fita e do Ponteiro em um formato mais intuitivo.\n",
        "    "
      ]
    },
    {
      "cell_type": "code",
      "execution_count": 4,
      "metadata": {
        "id": "993b55a3"
      },
      "outputs": [],
      "source": [
        "class TuringMachine:\n",
        "  def __init__(self, tape, initial_position, initial_state):\n",
        "    self.tape = tape\n",
        "    self.head_position = initial_position\n",
        "    self.state = initial_state\n",
        "\n",
        "  def display(self):\n",
        "    tape_display = \"\".join(self.tape)\n",
        "    head_marker = ' ' * self.head_position + '^'\n",
        "    print(f'{tape_display}\\n{head_marker}\\nState: {self.state}')"
      ]
    },
    {
      "cell_type": "markdown",
      "metadata": {
        "id": "0a66eaf9"
      },
      "source": [
        "### **Teste 2: Exibindo a fita e a posição do Ponteiro**"
      ]
    },
    {
      "cell_type": "code",
      "execution_count": 5,
      "metadata": {
        "colab": {
          "base_uri": "https://localhost:8080/"
        },
        "id": "d9ce5a54",
        "outputId": "56b16205-2afb-4d90-af03-17cea08d7325"
      },
      "outputs": [
        {
          "name": "stdout",
          "output_type": "stream",
          "text": [
            "01B01\n",
            "^\n",
            "State: q0\n"
          ]
        }
      ],
      "source": [
        "machine = TuringMachine(tape, 0, initial_state)\n",
        "machine.display()"
      ]
    },
    {
      "cell_type": "markdown",
      "metadata": {
        "id": "8b48af41"
      },
      "source": [
        "\n",
        "## **Movendo o Ponteiro**\n",
        "\n",
        "Agora, implementamos um método que permite que o Ponteiro se mova para a esquerda (`L`) ou para a direita (`R`).\n",
        "    "
      ]
    },
    {
      "cell_type": "code",
      "execution_count": 6,
      "metadata": {
        "id": "ef47eaae"
      },
      "outputs": [],
      "source": [
        "class TuringMachine:\n",
        "  def __init__(self, tape, initial_position, initial_state):\n",
        "    self.tape = tape\n",
        "    self.head_position = initial_position\n",
        "    self.state = initial_state\n",
        "\n",
        "  def display(self):\n",
        "    tape_display = \"\".join(self.tape)\n",
        "    head_marker = ' ' * self.head_position + '^'\n",
        "    print(f'{tape_display}\\n{head_marker}\\nState: {self.state}')\n",
        "\n",
        "  def move_head(self, one_direction):\n",
        "    if one_direction == 'L':\n",
        "      if self.head_position > 0:\n",
        "        self.head_position -= 1\n",
        "    elif one_direction == 'R':\n",
        "      self.head_position += 1"
      ]
    },
    {
      "cell_type": "markdown",
      "metadata": {
        "id": "86da7754"
      },
      "source": [
        "### **Teste 3: Movendo o Ponteiro para a direita e para a esquerda**"
      ]
    },
    {
      "cell_type": "code",
      "execution_count": 7,
      "metadata": {
        "colab": {
          "base_uri": "https://localhost:8080/"
        },
        "id": "7949eeb0",
        "outputId": "2b69a8fd-baec-4b1c-8c45-98becff9aaba"
      },
      "outputs": [
        {
          "name": "stdout",
          "output_type": "stream",
          "text": [
            "01B01\n",
            "^\n",
            "State: q0\n",
            "Movendo para a direita\n",
            "01B01\n",
            " ^\n",
            "State: q0\n",
            "Movendo para a esquerda\n",
            "01B01\n",
            "^\n",
            "State: q0\n"
          ]
        }
      ],
      "source": [
        "machine = TuringMachine(tape, initial_position, initial_state)\n",
        "machine.display()\n",
        "\n",
        "print(\"Movendo para a direita\")\n",
        "machine.move_head('R')\n",
        "machine.display()\n",
        "\n",
        "print(\"Movendo para a esquerda\")\n",
        "machine.move_head('L')\n",
        "machine.display()\n"
      ]
    },
    {
      "cell_type": "markdown",
      "metadata": {
        "id": "6563d808"
      },
      "source": [
        "\n",
        "## **Definindo as Regras de Transição**\n",
        "\n",
        "Cada regra define:\n",
        "- O símbolo lido na fita.\n",
        "- O estado atual da máquina.\n",
        "- O símbolo que será escrito na fita.\n",
        "- O movimento do Ponteiro (`L` para esquerda, `R` para direita).\n",
        "- O novo estado após a transição.\n",
        "\n",
        "O programa será carregado a partir de um arquivo CSV.\n",
        "    "
      ]
    },
    {
      "cell_type": "markdown",
      "metadata": {
        "id": "9CJUcOSyz2OT"
      },
      "source": [
        "### **Fita Inicial**\n",
        "A fita contém a seguinte sequência de símbolos:\n",
        "```\n",
        "['0', '1', 'B', '0', '1']\n",
        "```\n",
        "Cada célula pode conter um símbolo, e a máquina inicia a leitura a partir do primeiro símbolo (`0`).\n",
        "\n",
        "### **Objetivo da Máquina**\n",
        "A Máquina de Turing percorre a fita e substitui `0` e `1` por `_` até encontrar um espaço em branco (`B`). Quando encontra `B`, escreve `0` se no estado `q0` e `1` se no estado `q1`, move-se para a esquerda e entra no estado final `qf`.\n",
        "\n",
        "### **Regras de Transição**\n",
        "A máquina segue as seguintes regras:\n",
        "\n",
        "| Símbolo Atual | Estado Atual | Novo Símbolo | Movimento | Novo Estado |\n",
        "|--------------|-------------|-------------|-----------|------------|\n",
        "| 0            | q0          | _           | R         | q1         |\n",
        "| 0            | q1          | _           | R         | q0         |\n",
        "| 1            | q0          | _           | R         | q0         |\n",
        "| 1            | q1          | _           | R         | q1         |\n",
        "| B            | q0          | 0           | L         | qf         |\n",
        "| B            | q1          | 1           | L         | qf         |\n",
        "\n",
        "### **Resultado Esperado**\n",
        "Após a execução, a fita deve conter:\n",
        "```\n",
        "['_', '_', '1', '0', '1']\n",
        "```"
      ]
    },
    {
      "cell_type": "code",
      "execution_count": 8,
      "metadata": {
        "colab": {
          "base_uri": "https://localhost:8080/",
          "height": 286
        },
        "id": "b5e82419",
        "outputId": "c8f70190-5268-4d4c-c03d-f4d898b3c02a"
      },
      "outputs": [
        {
          "name": "stdout",
          "output_type": "stream",
          "text": [
            "Regras de transição carregadas:\n"
          ]
        },
        {
          "data": {
            "text/html": [
              "<div>\n",
              "<style scoped>\n",
              "    .dataframe tbody tr th:only-of-type {\n",
              "        vertical-align: middle;\n",
              "    }\n",
              "\n",
              "    .dataframe tbody tr th {\n",
              "        vertical-align: top;\n",
              "    }\n",
              "\n",
              "    .dataframe thead th {\n",
              "        text-align: right;\n",
              "    }\n",
              "</style>\n",
              "<table border=\"1\" class=\"dataframe\">\n",
              "  <thead>\n",
              "    <tr style=\"text-align: right;\">\n",
              "      <th></th>\n",
              "      <th>symbol</th>\n",
              "      <th>state</th>\n",
              "      <th>write</th>\n",
              "      <th>move</th>\n",
              "      <th>new-state</th>\n",
              "    </tr>\n",
              "  </thead>\n",
              "  <tbody>\n",
              "    <tr>\n",
              "      <th>0</th>\n",
              "      <td>0</td>\n",
              "      <td>q0</td>\n",
              "      <td>_</td>\n",
              "      <td>R</td>\n",
              "      <td>q1</td>\n",
              "    </tr>\n",
              "    <tr>\n",
              "      <th>1</th>\n",
              "      <td>0</td>\n",
              "      <td>q1</td>\n",
              "      <td>_</td>\n",
              "      <td>R</td>\n",
              "      <td>q0</td>\n",
              "    </tr>\n",
              "    <tr>\n",
              "      <th>2</th>\n",
              "      <td>1</td>\n",
              "      <td>q0</td>\n",
              "      <td>_</td>\n",
              "      <td>R</td>\n",
              "      <td>q0</td>\n",
              "    </tr>\n",
              "    <tr>\n",
              "      <th>3</th>\n",
              "      <td>1</td>\n",
              "      <td>q1</td>\n",
              "      <td>_</td>\n",
              "      <td>R</td>\n",
              "      <td>q1</td>\n",
              "    </tr>\n",
              "    <tr>\n",
              "      <th>4</th>\n",
              "      <td>B</td>\n",
              "      <td>q0</td>\n",
              "      <td>0</td>\n",
              "      <td>L</td>\n",
              "      <td>qf</td>\n",
              "    </tr>\n",
              "    <tr>\n",
              "      <th>5</th>\n",
              "      <td>B</td>\n",
              "      <td>q1</td>\n",
              "      <td>1</td>\n",
              "      <td>L</td>\n",
              "      <td>qf</td>\n",
              "    </tr>\n",
              "    <tr>\n",
              "      <th>6</th>\n",
              "      <td>B</td>\n",
              "      <td>qf</td>\n",
              "      <td>NaN</td>\n",
              "      <td>NaN</td>\n",
              "      <td>NaN</td>\n",
              "    </tr>\n",
              "  </tbody>\n",
              "</table>\n",
              "</div>"
            ],
            "text/plain": [
              "  symbol state write move new-state\n",
              "0      0    q0     _    R        q1\n",
              "1      0    q1     _    R        q0\n",
              "2      1    q0     _    R        q0\n",
              "3      1    q1     _    R        q1\n",
              "4      B    q0     0    L        qf\n",
              "5      B    q1     1    L        qf\n",
              "6      B    qf   NaN  NaN       NaN"
            ]
          },
          "metadata": {},
          "output_type": "display_data"
        }
      ],
      "source": [
        "# Carregar o programa via arquivo CSV\n",
        "program = pd.read_csv('./turing-machine-example-program.csv', delimiter=';')\n",
        "\n",
        "# Exibir as regras do programa\n",
        "print(\"Regras de transição carregadas:\")\n",
        "display(program)"
      ]
    },
    {
      "cell_type": "markdown",
      "metadata": {
        "id": "746393c4"
      },
      "source": [
        "\n",
        "## **Execução da Máquina de Turing**\n",
        "\n",
        "Agora, implementamos um método para executar a máquina até atingir um estado final.\n",
        "    "
      ]
    },
    {
      "cell_type": "code",
      "execution_count": 9,
      "metadata": {
        "id": "8509c19e",
        "outputId": "449d3ad7-0d01-46f1-96ff-147d0be2d00a"
      },
      "outputs": [
        {
          "name": "stdout",
          "output_type": "stream",
          "text": [
            "_1B01\n",
            " ^\n",
            "State: q1\n",
            "__B01\n",
            "  ^\n",
            "State: q1\n",
            "__101\n",
            " ^\n",
            "State: qf\n"
          ]
        }
      ],
      "source": [
        "def run_turing_machine(machine, program):\n",
        "    while machine.state != 'qf':\n",
        "        current_symbol = machine.tape[machine.head_position]\n",
        "        current_state = machine.state\n",
        "\n",
        "        # Busca a regra de transição para o símbolo e estado atual\n",
        "        rule = program[(program['symbol'] == current_symbol) & (program['state'] == current_state)]\n",
        "\n",
        "        if rule.empty:\n",
        "            print(\"Nenhuma transição encontrada. Máquina encerrada.\")\n",
        "            break\n",
        "\n",
        "        # Aplicando as regras\n",
        "        new_symbol = rule.iloc[0]['write']\n",
        "        move_direction = rule.iloc[0]['move']\n",
        "        new_state = rule.iloc[0]['new-state']\n",
        "\n",
        "        # Atualiza o símbolo na fita\n",
        "        machine.tape[machine.head_position] = new_symbol\n",
        "\n",
        "        # Move o ponteiro conforme a direção especificada\n",
        "        if move_direction == 'R':\n",
        "            machine.move_head('R')\n",
        "        elif move_direction == 'L':\n",
        "            machine.move_head('L')\n",
        "\n",
        "        # Atualiza o estado\n",
        "        machine.state = new_state\n",
        "        machine.display()\n",
        " \n",
        "\n",
        "machine = TuringMachine(tape, initial_position, initial_state)\n",
        "run_turing_machine(machine, program)\n"
      ]
    },
    {
      "cell_type": "markdown",
      "metadata": {},
      "source": [
        "Uma implementação mais simples..."
      ]
    },
    {
      "cell_type": "code",
      "execution_count": 10,
      "metadata": {},
      "outputs": [
        {
          "name": "stdout",
          "output_type": "stream",
          "text": [
            "__B01\n",
            "  ^\n",
            "State: q0\n",
            "__B01\n",
            "  ^\n",
            "State: q0\n",
            "__001\n",
            " ^\n",
            "State: qf\n",
            "__001\n",
            " ^\n",
            "State: qf\n",
            "__101\n",
            " ^\n",
            "State: qf\n"
          ]
        }
      ],
      "source": [
        "def run_turing_machine_2(machine):\n",
        "    for item in machine.tape:\n",
        "        \n",
        "        # mostrando a máquina a cada iteração\n",
        "        machine.display()\n",
        "\n",
        "        # verificando se está no estado final\n",
        "        if machine.state == 'qf':\n",
        "            break\n",
        "\n",
        "        # regra 1\n",
        "        if item == '0' and machine.state == 'q0':\n",
        "            machine.tape[machine.head_position] = '_'\n",
        "            machine.move_head('R')\n",
        "            machine.state = 'q1'\n",
        "            continue\n",
        "\n",
        "        # regra 2\n",
        "        if item == '0' and machine.state == 'q1':\n",
        "            machine.tape[machine.head_position] = '_'\n",
        "            machine.move_head('R')\n",
        "            machine.state = 'q0'\n",
        "            continue\n",
        "\n",
        "        # regra 3\n",
        "        if item == '1' and machine.state == 'q0':\n",
        "            machine.tape[machine.head_position] = '_'\n",
        "            machine.move_head('R')\n",
        "            machine.state = 'q0'\n",
        "            continue\n",
        "\n",
        "        # regra 4\n",
        "        if item == '1' and machine.state == 'q1':\n",
        "            machine.tape[machine.head_position] = '_'\n",
        "            machine.move_head('R')\n",
        "            machine.state = 'q1'\n",
        "            continue\n",
        "\n",
        "        # regra 5\n",
        "        if item == 'B' and machine.state == 'q0':\n",
        "            machine.tape[machine.head_position] = '0'\n",
        "            machine.move_head('L')\n",
        "            machine.state = 'qf'\n",
        "            continue\n",
        "        \n",
        "        # regra 6\n",
        "        if item == 'B' and machine.state == 'q1':\n",
        "            machine.tape[machine.head_position] = '1'\n",
        "            machine.move_head('L')\n",
        "            machine.state = 'qf'\n",
        "            continue\n",
        "\n",
        "\n",
        "# inicializando uma máquina\n",
        "tape = ['0', '1', 'B', '0', '1']\n",
        "initial_position = 0\n",
        "initial_state = 'q0'\n",
        "machine = TuringMachine(tape, initial_position, initial_state)\n",
        "\n",
        "run_turing_machine_2(machine)\n"
      ]
    },
    {
      "cell_type": "markdown",
      "metadata": {
        "id": "b92b7fe2"
      },
      "source": [
        "# **Exercício:**\n",
        "    \n",
        "Agora que vimos como funciona uma Máquina de Turing, implemente uma nova versão que realize uma operação diferente.  \n",
        "\n",
        "## **Objetivo**  \n",
        "Crie uma Máquina de Turing que **inverta todos os bits** em uma fita binária. Ou seja:  \n",
        "- `0` deve ser transformado em `1` e muda de estado\n",
        "- `1` deve ser transformado em `0` e muda de estado\n",
        "- O Ponteiro deve percorrer toda a fita e parar quando encontrar um espaço em branco (`B`).  \n",
        "\n",
        "## **Passo a Passo**  \n",
        "1. **Defina uma nova fita de entrada**, como: `['0', '1', '1', '0', 'B']`.  \n",
        "2. **Crie uma tabela de transição** que inverta os valores:  \n",
        "   - Se `0` for encontrado no estado `q0`, transforme em `1`, mova para a direita e muda para o estado `q1`. Se no estado `q1`, mude para `q0`\n",
        "   - Se `1` for encontrado no estado `q0`, transforme em `0`, mova para a direita e mude o estado para `q1`. Se no estado `q1`, mude para `q0`\n",
        "   - Se `B` for encontrado, vai para estado final e pare a execução.  \n",
        "3. **Implemente a lógica da máquina**, modificando a classe `TuringMachine`.  \n",
        "4. **Execute a máquina e verifique o resultado esperado:**  \n",
        "\n",
        "Implemente a sua solução no código abaixo:\n",
        "    "
      ]
    },
    {
      "cell_type": "markdown",
      "metadata": {
        "id": "cAuu1bUqz2OT"
      },
      "source": [
        "1. Qual a saída esperada?"
      ]
    },
    {
      "cell_type": "code",
      "execution_count": 11,
      "metadata": {
        "id": "LMDP7W3wz2OU"
      },
      "outputs": [
        {
          "name": "stdout",
          "output_type": "stream",
          "text": [
            "\n",
            "1001B\n",
            "    ^\n",
            "State: qf\n",
            "\n"
          ]
        }
      ],
      "source": [
        "tape = ['0', '1', '1', '0', 'B']\n",
        "initial_position = 0\n",
        "initial_state = 'qf'\n",
        "\n",
        "# 1 1 1 0 B\n",
        "#   ^\n",
        "# q0 -> q1\n",
        "\n",
        "# 1 0 1 0 B\n",
        "#     ^\n",
        "# q1 -> q0\n",
        "\n",
        "# 1 0 0 0 B\n",
        "#       ^\n",
        "# q0 -> q1\n",
        "\n",
        "# 1 0 0 1 B\n",
        "#         ^\n",
        "# q1 -> q0\n",
        "\n",
        "# 1 0 0 1 B\n",
        "#         ^\n",
        "# q0 -> qf\n",
        "\n",
        "# expected output:\n",
        "\n",
        "print(\"\"\"\n",
        "1001B\n",
        "    ^\n",
        "State: qf\n",
        "\"\"\")"
      ]
    },
    {
      "cell_type": "markdown",
      "metadata": {
        "id": "9n6E205zz2OU"
      },
      "source": [
        "2. Implemente a sua solução nas células abaixo:"
      ]
    },
    {
      "cell_type": "code",
      "execution_count": 12,
      "metadata": {
        "id": "srYyqiLcz2OU"
      },
      "outputs": [
        {
          "data": {
            "text/html": [
              "<div>\n",
              "<style scoped>\n",
              "    .dataframe tbody tr th:only-of-type {\n",
              "        vertical-align: middle;\n",
              "    }\n",
              "\n",
              "    .dataframe tbody tr th {\n",
              "        vertical-align: top;\n",
              "    }\n",
              "\n",
              "    .dataframe thead th {\n",
              "        text-align: right;\n",
              "    }\n",
              "</style>\n",
              "<table border=\"1\" class=\"dataframe\">\n",
              "  <thead>\n",
              "    <tr style=\"text-align: right;\">\n",
              "      <th></th>\n",
              "      <th>symbol</th>\n",
              "      <th>state</th>\n",
              "      <th>write</th>\n",
              "      <th>move</th>\n",
              "      <th>new-state</th>\n",
              "    </tr>\n",
              "  </thead>\n",
              "  <tbody>\n",
              "    <tr>\n",
              "      <th>0</th>\n",
              "      <td>0</td>\n",
              "      <td>q0</td>\n",
              "      <td>1</td>\n",
              "      <td>R</td>\n",
              "      <td>q1</td>\n",
              "    </tr>\n",
              "    <tr>\n",
              "      <th>1</th>\n",
              "      <td>0</td>\n",
              "      <td>q1</td>\n",
              "      <td>1</td>\n",
              "      <td>R</td>\n",
              "      <td>q0</td>\n",
              "    </tr>\n",
              "    <tr>\n",
              "      <th>2</th>\n",
              "      <td>1</td>\n",
              "      <td>q0</td>\n",
              "      <td>0</td>\n",
              "      <td>R</td>\n",
              "      <td>q1</td>\n",
              "    </tr>\n",
              "    <tr>\n",
              "      <th>3</th>\n",
              "      <td>1</td>\n",
              "      <td>q1</td>\n",
              "      <td>0</td>\n",
              "      <td>R</td>\n",
              "      <td>q0</td>\n",
              "    </tr>\n",
              "    <tr>\n",
              "      <th>4</th>\n",
              "      <td>B</td>\n",
              "      <td>q0</td>\n",
              "      <td>B</td>\n",
              "      <td></td>\n",
              "      <td>qf</td>\n",
              "    </tr>\n",
              "    <tr>\n",
              "      <th>5</th>\n",
              "      <td>B</td>\n",
              "      <td>q1</td>\n",
              "      <td>B</td>\n",
              "      <td></td>\n",
              "      <td>qf</td>\n",
              "    </tr>\n",
              "  </tbody>\n",
              "</table>\n",
              "</div>"
            ],
            "text/plain": [
              "  symbol state write move new-state\n",
              "0      0    q0     1    R        q1\n",
              "1      0    q1     1    R        q0\n",
              "2      1    q0     0    R        q1\n",
              "3      1    q1     0    R        q0\n",
              "4      B    q0     B             qf\n",
              "5      B    q1     B             qf"
            ]
          },
          "execution_count": 12,
          "metadata": {},
          "output_type": "execute_result"
        }
      ],
      "source": [
        "tabela = {\n",
        "    'symbol':    ['0', '0', '1', '1', 'B', 'B'],\n",
        "    'state':     ['q0', 'q1', 'q0', 'q1', 'q0', 'q1'],\n",
        "    'write':     ['1', '1', '0', '0', 'B', 'B'],\n",
        "    'move':      ['R', 'R', 'R', 'R', '', ''],\n",
        "    'new-state': ['q1', 'q0', 'q1', 'q0', 'qf', 'qf']\n",
        "}\n",
        "program = pd.DataFrame(tabela)\n",
        "program"
      ]
    },
    {
      "cell_type": "code",
      "execution_count": 13,
      "metadata": {},
      "outputs": [
        {
          "name": "stdout",
          "output_type": "stream",
          "text": [
            "1110B\n",
            " ^\n",
            "State: q1\n",
            "1010B\n",
            "  ^\n",
            "State: q0\n",
            "1000B\n",
            "   ^\n",
            "State: q1\n",
            "1001B\n",
            "    ^\n",
            "State: q0\n",
            "1001B\n",
            "    ^\n",
            "State: qf\n"
          ]
        }
      ],
      "source": [
        "tape = ['0', '1', '1', '0', 'B']\n",
        "initial_position = 0\n",
        "initial_state = 'q0'\n",
        "\n",
        "machine = TuringMachine(tape, initial_position, initial_state)\n",
        "\n",
        "run_turing_machine(machine, program)"
      ]
    }
  ],
  "metadata": {
    "colab": {
      "provenance": []
    },
    "kernelspec": {
      "display_name": "base",
      "language": "python",
      "name": "python3"
    },
    "language_info": {
      "codemirror_mode": {
        "name": "ipython",
        "version": 3
      },
      "file_extension": ".py",
      "mimetype": "text/x-python",
      "name": "python",
      "nbconvert_exporter": "python",
      "pygments_lexer": "ipython3",
      "version": "3.11.4"
    }
  },
  "nbformat": 4,
  "nbformat_minor": 0
}
