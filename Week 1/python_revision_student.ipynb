{
 "cells": [
  {
   "cell_type": "markdown",
   "metadata": {
    "id": "ekpNEPoUccNJ"
   },
   "source": [
    "# Lab 1 - Python review\n",
    "\n",
    "## Purpose\n",
    "The purpose of this class is to strengthen and practice your knowledge of Python, mainly involved in data structures and commands that we will use during the semester.\n",
    "\n",
    "## Methodology\n",
    "Review basic operations, data types and programming concepts in Python. Solve programming challenges.\n",
    "\n",
    "## Results\n",
    "Fast track to programming in Python.\n",
    "\n",
    "---\n",
    "\n",
    "## Setup\n",
    "\n",
    "### Library import"
   ]
  },
  {
   "cell_type": "code",
   "execution_count": null,
   "metadata": {
    "id": "i4ntJBXhdKUN"
   },
   "outputs": [],
   "source": [
    "import numpy as np"
   ]
  },
  {
   "cell_type": "markdown",
   "metadata": {
    "id": "cXq5W9zfdPAK"
   },
   "source": [
    "---\n",
    "\n",
    "# Review"
   ]
  },
  {
   "cell_type": "markdown",
   "metadata": {
    "id": "j0cjGeHKW3Bs"
   },
   "source": [
    "1 - Escreva um programa que calcule a soma de todos os números pares de 1 a 100. (Faça duas opções, uma usando o operador `%` e outra não)\n"
   ]
  },
  {
   "cell_type": "code",
   "execution_count": 2,
   "metadata": {
    "colab": {
     "base_uri": "https://localhost:8080/"
    },
    "executionInfo": {
     "elapsed": 359,
     "status": "ok",
     "timestamp": 1708116215936,
     "user": {
      "displayName": "Zuil Filho",
      "userId": "14731231616780016906"
     },
     "user_tz": 0
    },
    "id": "O32oM-NhO16v",
    "outputId": "dbb0ae4a-24f5-4393-934f-27159deca243"
   },
   "outputs": [
    {
     "name": "stdout",
     "output_type": "stream",
     "text": [
      "2550\n"
     ]
    }
   ],
   "source": []
  },
  {
   "cell_type": "code",
   "execution_count": 3,
   "metadata": {
    "colab": {
     "base_uri": "https://localhost:8080/"
    },
    "executionInfo": {
     "elapsed": 459,
     "status": "ok",
     "timestamp": 1708116292821,
     "user": {
      "displayName": "Zuil Filho",
      "userId": "14731231616780016906"
     },
     "user_tz": 0
    },
    "id": "tPbBeCFfo0gI",
    "outputId": "84063235-e4a8-4499-9502-757bd8160a96"
   },
   "outputs": [
    {
     "name": "stdout",
     "output_type": "stream",
     "text": [
      "2550\n"
     ]
    }
   ],
   "source": []
  },
  {
   "cell_type": "code",
   "execution_count": 5,
   "metadata": {
    "colab": {
     "base_uri": "https://localhost:8080/"
    },
    "executionInfo": {
     "elapsed": 374,
     "status": "ok",
     "timestamp": 1708116357506,
     "user": {
      "displayName": "Zuil Filho",
      "userId": "14731231616780016906"
     },
     "user_tz": 0
    },
    "id": "hkT1j8JuqkDK",
    "outputId": "e716cc08-4362-43e8-e04f-ad2e594abeac"
   },
   "outputs": [
    {
     "name": "stdout",
     "output_type": "stream",
     "text": [
      "2550\n"
     ]
    }
   ],
   "source": []
  },
  {
   "cell_type": "markdown",
   "metadata": {
    "id": "VuWAxKDQXE2k"
   },
   "source": [
    "2 - Crie uma função que receba como parâmetro uma lista e retorne o maior elemento."
   ]
  },
  {
   "cell_type": "code",
   "execution_count": 6,
   "metadata": {
    "colab": {
     "base_uri": "https://localhost:8080/"
    },
    "executionInfo": {
     "elapsed": 490,
     "status": "ok",
     "timestamp": 1708116623481,
     "user": {
      "displayName": "Zuil Filho",
      "userId": "14731231616780016906"
     },
     "user_tz": 0
    },
    "id": "xFH0liPYXATT",
    "outputId": "a7faef0b-5870-46b4-a3af-7af70fb950b7"
   },
   "outputs": [
    {
     "name": "stdout",
     "output_type": "stream",
     "text": [
      "10\n"
     ]
    }
   ],
   "source": [
    "lista = [1,3,6,7,10,5]\n"
   ]
  },
  {
   "cell_type": "code",
   "execution_count": 8,
   "metadata": {
    "colab": {
     "base_uri": "https://localhost:8080/"
    },
    "executionInfo": {
     "elapsed": 511,
     "status": "ok",
     "timestamp": 1708116810812,
     "user": {
      "displayName": "Zuil Filho",
      "userId": "14731231616780016906"
     },
     "user_tz": 0
    },
    "id": "UCJZpN09T9Ev",
    "outputId": "766bf4e9-5dda-43a9-b8e5-1a29f00ffabc"
   },
   "outputs": [
    {
     "name": "stdout",
     "output_type": "stream",
     "text": [
      "10\n"
     ]
    }
   ],
   "source": []
  },
  {
   "cell_type": "markdown",
   "metadata": {
    "id": "lqisxV7ZXYNq"
   },
   "source": [
    "3 - Escreva um programa que gere uma lista com os números de 1 a 10 elevados ao quadrado.(use List Comprehension)"
   ]
  },
  {
   "cell_type": "code",
   "execution_count": 12,
   "metadata": {
    "colab": {
     "base_uri": "https://localhost:8080/"
    },
    "executionInfo": {
     "elapsed": 381,
     "status": "ok",
     "timestamp": 1708117261425,
     "user": {
      "displayName": "Zuil Filho",
      "userId": "14731231616780016906"
     },
     "user_tz": 0
    },
    "id": "BXW94kxWXJYu",
    "outputId": "f6c3c0b2-c755-4344-f428-df868b237bfe"
   },
   "outputs": [
    {
     "name": "stdout",
     "output_type": "stream",
     "text": [
      "[1, 4, 9, 16, 25, 36, 49, 64, 81, 100]\n"
     ]
    }
   ],
   "source": []
  },
  {
   "cell_type": "markdown",
   "metadata": {
    "id": "4dTwGABOXot4"
   },
   "source": [
    "4 - Implemente uma função que receba duas listas como parâmetros e retorne uma nova lista contendo os elementos comuns entre as duas listas. (dica: utilize a função `set()` e o operador `&`)"
   ]
  },
  {
   "cell_type": "code",
   "execution_count": 17,
   "metadata": {
    "colab": {
     "base_uri": "https://localhost:8080/"
    },
    "executionInfo": {
     "elapsed": 412,
     "status": "ok",
     "timestamp": 1708118176696,
     "user": {
      "displayName": "Zuil Filho",
      "userId": "14731231616780016906"
     },
     "user_tz": 0
    },
    "id": "dUKbUeMJXrwP",
    "outputId": "819204bc-4d68-42c3-d799-d52569b84f7f"
   },
   "outputs": [
    {
     "name": "stdout",
     "output_type": "stream",
     "text": [
      "[2, 4]\n"
     ]
    }
   ],
   "source": [
    "a = [1,2,2,3,4]\n",
    "b = [2,2,6,4]\n",
    "\n"
   ]
  },
  {
   "cell_type": "markdown",
   "metadata": {
    "id": "ejobuOngYn1c"
   },
   "source": [
    "5 - Escreva uma função que calcule a média de uma lista de números."
   ]
  },
  {
   "cell_type": "code",
   "execution_count": null,
   "metadata": {
    "id": "BGDYqyepX-Q0"
   },
   "outputs": [],
   "source": [
    "numeros = [1, 4, 9, 16, 25, 36, 49, 64, 81, 100]"
   ]
  },
  {
   "cell_type": "markdown",
   "metadata": {
    "id": "Nz5UdUIzedjG"
   },
   "source": [
    "6 - Crie uma função que receba um número como parâmetro e retorne `True` se o número for primo e `False` caso contrário."
   ]
  },
  {
   "cell_type": "code",
   "execution_count": null,
   "metadata": {
    "colab": {
     "base_uri": "https://localhost:8080/"
    },
    "executionInfo": {
     "elapsed": 566,
     "status": "ok",
     "timestamp": 1708119018141,
     "user": {
      "displayName": "Zuil Filho",
      "userId": "14731231616780016906"
     },
     "user_tz": 0
    },
    "id": "hYFVjYuvYuho",
    "outputId": "3db9820a-7033-4c2d-f2f3-1e4b84e01585"
   },
   "outputs": [],
   "source": []
  },
  {
   "cell_type": "markdown",
   "metadata": {
    "id": "YQWgtZwtjy82"
   },
   "source": [
    "7 - Implemente uma função que receba uma lista como parâmetro e retorne uma nova lista contendo apenas os elementos únicos."
   ]
  },
  {
   "cell_type": "code",
   "execution_count": 30,
   "metadata": {
    "colab": {
     "base_uri": "https://localhost:8080/"
    },
    "executionInfo": {
     "elapsed": 424,
     "status": "ok",
     "timestamp": 1708120044153,
     "user": {
      "displayName": "Zuil Filho",
      "userId": "14731231616780016906"
     },
     "user_tz": 0
    },
    "id": "fD68TSz4ifwf",
    "outputId": "19d75b2c-126e-4476-9726-f837d06edcc1"
   },
   "outputs": [
    {
     "name": "stdout",
     "output_type": "stream",
     "text": [
      "[1, 3, 4, 5, 6]\n"
     ]
    }
   ],
   "source": [
    "numeros = [1,2,2,3,4,5,6]\n"
   ]
  },
  {
   "cell_type": "markdown",
   "metadata": {
    "id": "YmQdCVqkkDk3"
   },
   "source": [
    "8 - Escreva uma função que calcule a soma dos elementos de uma matriz. Faça duas opções, uma com `numpy` e outra sem."
   ]
  },
  {
   "cell_type": "code",
   "execution_count": 1,
   "metadata": {
    "executionInfo": {
     "elapsed": 2,
     "status": "ok",
     "timestamp": 1708114532631,
     "user": {
      "displayName": "Zuil Filho",
      "userId": "14731231616780016906"
     },
     "user_tz": 0
    },
    "id": "GgmhOKOJj3iF"
   },
   "outputs": [],
   "source": []
  },
  {
   "cell_type": "markdown",
   "metadata": {
    "id": "bPV5HWzvn6lZ"
   },
   "source": [
    "9 - Crie uma função que receba duas matrizes como parâmetros e retorne a soma das duas matrizes. O que muda se somarmos duas matrizes usando o operador `+` e duas matrizes numpy usando o mesmo operador?"
   ]
  },
  {
   "cell_type": "code",
   "execution_count": null,
   "metadata": {
    "colab": {
     "base_uri": "https://localhost:8080/"
    },
    "executionInfo": {
     "elapsed": 6,
     "status": "ok",
     "timestamp": 1708120358074,
     "user": {
      "displayName": "Zuil Filho",
      "userId": "14731231616780016906"
     },
     "user_tz": 0
    },
    "id": "CSvlU8TOkJuj",
    "outputId": "20c9e28a-00ed-49e3-e9bf-c0e3e979969e"
   },
   "outputs": [],
   "source": [
    "matriz1 = [[1,2],[3,4]]\n",
    "matriz2 = [[2,2],[3,3]]\n",
    "\n",
    "#matriz1 + matriz2\n",
    "print(\"caso 1:\", matriz1 + matriz2)\n",
    "\n",
    "print()\n",
    "\n",
    "matriz1 = np.array([[1,2],[3,4]])\n",
    "matriz2 = np.array([[2,2],[3,3]])\n",
    "\n",
    "#matriz1 + matriz2\n",
    "print(\"caso 2:\\n\", matriz1 + matriz2)\n",
    "\n"
   ]
  },
  {
   "cell_type": "code",
   "execution_count": 1,
   "metadata": {
    "executionInfo": {
     "elapsed": 2,
     "status": "ok",
     "timestamp": 1708114534835,
     "user": {
      "displayName": "Zuil Filho",
      "userId": "14731231616780016906"
     },
     "user_tz": 0
    },
    "id": "coalf8mQ528q"
   },
   "outputs": [],
   "source": []
  },
  {
   "cell_type": "markdown",
   "metadata": {
    "id": "bBt_cOhHo7XA"
   },
   "source": [
    "10 - Para que serve o método `numpy.shape()`? É possivel somar duas matrizes com operador `+` com shapes diferentes?"
   ]
  },
  {
   "cell_type": "code",
   "execution_count": 1,
   "metadata": {
    "executionInfo": {
     "elapsed": 2,
     "status": "ok",
     "timestamp": 1708114535775,
     "user": {
      "displayName": "Zuil Filho",
      "userId": "14731231616780016906"
     },
     "user_tz": 0
    },
    "id": "WQMjmybUoc4f"
   },
   "outputs": [],
   "source": []
  },
  {
   "cell_type": "markdown",
   "metadata": {
    "id": "RZLrXIhtporG"
   },
   "source": [
    "11 - Implemente uma função que receba uma lista como parâmetro e retorne outra lista com os elementos invertidos. Tente fazer em uma linha e usando somente slice."
   ]
  },
  {
   "cell_type": "code",
   "execution_count": null,
   "metadata": {
    "colab": {
     "base_uri": "https://localhost:8080/"
    },
    "executionInfo": {
     "elapsed": 594,
     "status": "ok",
     "timestamp": 1708121110203,
     "user": {
      "displayName": "Zuil Filho",
      "userId": "14731231616780016906"
     },
     "user_tz": 0
    },
    "id": "kjZR4g4To33W",
    "outputId": "f088a28a-04fc-4941-8122-920293edc326"
   },
   "outputs": [],
   "source": [
    "numeros = [1,2,3,5,6,7,8]\n"
   ]
  },
  {
   "cell_type": "markdown",
   "metadata": {
    "id": "cT_3vqbnurp8"
   },
   "source": [
    "12 - O que é uma matriz transposta? Escreva um programa que verifique se uma matriz é simétrica."
   ]
  },
  {
   "cell_type": "code",
   "execution_count": null,
   "metadata": {},
   "outputs": [
    {
     "name": "stdout",
     "output_type": "stream",
     "text": [
      "Matriz A é simétrica? True\n",
      "Matriz B é simétrica? False\n"
     ]
    }
   ],
   "source": [
    "import numpy as np\n",
    "\n",
    "def is_symmetric(matriz):\n",
    "    \"\"\" Verifica se uma matriz é simétrica \"\"\"\n",
    "    #\n",
    "\n",
    "    A = np.array([\n",
    "        [1, 7, 3],\n",
    "        [7, 4, 5],\n",
    "        [3, 5, 6]\n",
    "    ])\n",
    "    \n",
    "    B = np.array([\n",
    "        [1, 2, 3],\n",
    "        [4, 5, 6],\n",
    "        [7, 8, 9]\n",
    "    ])\n",
    "    \n",
    "    print(\"Matriz A é simétrica?\", is_symmetric(A))  # True\n",
    "    print(\"Matriz B é simétrica?\", is_symmetric(B))  # False"
   ]
  },
  {
   "cell_type": "code",
   "execution_count": 1,
   "metadata": {
    "executionInfo": {
     "elapsed": 2,
     "status": "ok",
     "timestamp": 1708114536622,
     "user": {
      "displayName": "Zuil Filho",
      "userId": "14731231616780016906"
     },
     "user_tz": 0
    },
    "id": "4Uxy8FXQp4i0"
   },
   "outputs": [],
   "source": []
  },
  {
   "cell_type": "markdown",
   "metadata": {
    "id": "wcZklDoAvVRb"
   },
   "source": [
    "13 - Crie uma função que receba uma lista como parâmetro e retorne uma nova lista com os elementos ordenados de forma decrescente."
   ]
  },
  {
   "cell_type": "code",
   "execution_count": 1,
   "metadata": {
    "executionInfo": {
     "elapsed": 2,
     "status": "ok",
     "timestamp": 1708114537621,
     "user": {
      "displayName": "Zuil Filho",
      "userId": "14731231616780016906"
     },
     "user_tz": 0
    },
    "id": "mjKpNIzdvOLm"
   },
   "outputs": [],
   "source": [
    "numeros = [11,2,3,15,6,1,2,7,8]"
   ]
  },
  {
   "cell_type": "markdown",
   "metadata": {
    "id": "WlVaMF2oxKvy"
   },
   "source": [
    "14 - Escreva uma rotina que calcule o produto escalar de dois vetores."
   ]
  },
  {
   "cell_type": "code",
   "execution_count": 6,
   "metadata": {
    "id": "r8pL8cjrvkNa"
   },
   "outputs": [
    {
     "data": {
      "text/plain": [
       "32"
      ]
     },
     "execution_count": 6,
     "metadata": {},
     "output_type": "execute_result"
    }
   ],
   "source": [
    "vetor_a = [1, 2, 3]\n",
    "vetor_b = [4, 5, 6]\n",
    "\n"
   ]
  },
  {
   "cell_type": "markdown",
   "metadata": {
    "id": "iXuNxldbxr4l"
   },
   "source": [
    "15 - Crie uma função que receba uma lista como parâmetro e retorne `True` se a lista estiver ordenada em ordem crescente, `False` caso contrário."
   ]
  },
  {
   "cell_type": "code",
   "execution_count": null,
   "metadata": {
    "id": "2bFX8Xo2xQfX"
   },
   "outputs": [],
   "source": []
  },
  {
   "cell_type": "markdown",
   "metadata": {
    "id": "3r6Q3ML60LN2"
   },
   "source": [
    "16 -  Implemente uma função que receba uma matriz como parâmetro e retorne `True` se a matriz for diagonal, `False` caso contrário."
   ]
  },
  {
   "cell_type": "code",
   "execution_count": null,
   "metadata": {
    "id": "HQNyDBgozO85"
   },
   "outputs": [],
   "source": []
  },
  {
   "cell_type": "markdown",
   "metadata": {
    "id": "KkdPDdcjATW6"
   },
   "source": [
    "17 - Crie uma função que receba uma lista como parâmetro e retorne a mediana dos elementos."
   ]
  },
  {
   "cell_type": "code",
   "execution_count": null,
   "metadata": {
    "id": "nYlt-P4Q_kf7"
   },
   "outputs": [],
   "source": []
  },
  {
   "cell_type": "markdown",
   "metadata": {
    "id": "FJSImD8wBUfZ"
   },
   "source": [
    "18 - Crie uma função que receba uma lista como parâmetro e retorne uma nova lista contendo apenas os elementos que são múltiplos de 3."
   ]
  },
  {
   "cell_type": "code",
   "execution_count": null,
   "metadata": {
    "id": "lOB3SpVeBVWX"
   },
   "outputs": [],
   "source": []
  },
  {
   "cell_type": "markdown",
   "metadata": {
    "id": "8WlEv3bICjot"
   },
   "source": [
    "19 - Escreva um programa que calcule a média móvel de uma lista com uma janela de tamanho `k`."
   ]
  },
  {
   "cell_type": "code",
   "execution_count": null,
   "metadata": {
    "id": "ZtEaZp1VCcof"
   },
   "outputs": [],
   "source": []
  },
  {
   "cell_type": "markdown",
   "metadata": {
    "id": "5STqlBfuPknM"
   },
   "source": [
    "20 - Escreva um programa que calcule a soma dos fatoriais de todos os números de 1 a `N`, onde `N` é fornecido pelo usuário."
   ]
  },
  {
   "cell_type": "code",
   "execution_count": null,
   "metadata": {
    "id": "aTLb9AGUC7CK"
   },
   "outputs": [],
   "source": []
  },
  {
   "cell_type": "markdown",
   "metadata": {
    "id": "O8V7Xew4Zg3Z"
   },
   "source": [
    "21 - Usando `while`, escreva um programa que gere um número aleatório entre 1 e 100 e permita que o usuário adivinhe o número. O programa deve fornecer feedback sobre se o palpite do usuário está alto, baixo ou correto. O loop deve continuar até que o usuário adivinhe corretamente. (utilize a biblioteca `random` e `randint`)"
   ]
  },
  {
   "cell_type": "code",
   "execution_count": null,
   "metadata": {
    "id": "P5Z36oZnP0oE"
   },
   "outputs": [],
   "source": []
  },
  {
   "cell_type": "markdown",
   "metadata": {
    "id": "tbz9YCFudtQZ"
   },
   "source": [
    "22 - Utilizando apenas list comprehension elaborar uma rotina que filtre números pares em uma lista."
   ]
  },
  {
   "cell_type": "code",
   "execution_count": null,
   "metadata": {
    "id": "WLvOnqOAdtqB"
   },
   "outputs": [],
   "source": [
    "numbers = [1, 2, 3, 4, 5, 6, 7, 8, 9, 10]"
   ]
  },
  {
   "cell_type": "markdown",
   "metadata": {
    "id": "oDF1545zevKM"
   },
   "source": [
    "23 - Utilizando apenas list comprehension, elaborar uma rotina que converta strings para maiúsculas somente se tiverem mais de 5 caracteres. (utilizar `upper()`)"
   ]
  },
  {
   "cell_type": "code",
   "execution_count": null,
   "metadata": {
    "id": "OaCk64r3eHCw"
   },
   "outputs": [],
   "source": [
    "words = [\"apple\", \"banana\", \"orange\", \"kiwi\", \"strawberry\", \"peach\"]"
   ]
  },
  {
   "cell_type": "markdown",
   "metadata": {
    "id": "x83fC0sAeucZ"
   },
   "source": [
    "24 - Qual a diferença entre `append` e `+` quando trabalhamos com listas? Explique com código."
   ]
  },
  {
   "cell_type": "code",
   "execution_count": null,
   "metadata": {
    "id": "TrAS94jge1w-"
   },
   "outputs": [],
   "source": []
  },
  {
   "cell_type": "markdown",
   "metadata": {
    "id": "3qV6VUHihoGX"
   },
   "source": [
    "25 - Utilizando `enumerate()`, crie uma rotfunçãoina que imprima índices e elementos contidos em uma lista."
   ]
  },
  {
   "cell_type": "code",
   "execution_count": null,
   "metadata": {
    "id": "VtPboe1jh302"
   },
   "outputs": [],
   "source": [
    "fruits = [\"apple\", \"banana\", \"orange\", \"kiwi\", \"strawberry\"]"
   ]
  },
  {
   "cell_type": "markdown",
   "metadata": {
    "id": "6FrRkl8uiJbZ"
   },
   "source": [
    "26 - Através de um único comprehension, criar uma função que receba uma letra e um string e que conte o número de vezes que a letra aparece no string."
   ]
  },
  {
   "cell_type": "code",
   "execution_count": null,
   "metadata": {
    "id": "FLy9dPrniaLA"
   },
   "outputs": [],
   "source": []
  },
  {
   "cell_type": "markdown",
   "metadata": {
    "id": "7TcNoFIokUpY"
   },
   "source": [
    "27 - Desenvolva um programa que permita ao usuário criar e atualizar uma lista de compras. Ele deve fornecer opções para adicionar novos itens à lista, remover itens existentes e exibir a lista atualizada.\n",
    "\n",
    "O menu da lista deve ser:\n",
    "\n",
    "`1. Adicionar Item`\n",
    "\n",
    "`2. Remover Item`\n",
    "\n",
    "`3. Exibir Lista de Compras`\n",
    "\n",
    "`4. Sair`\n",
    "\n",
    "\n",
    "- Ao selecionar `1` o programa pede ao utilizador o nome do item e quantidade;\n",
    "- Ao selecionar `2` o programa deve perguntar o nome do item que se quer remover;\n",
    "- Ao selecionar `3` o programa deve exibir os itens atuais da lista\n",
    "- Ao selecionar `4` o programa deve sair.\n",
    "- Ao digitar uma opção não válida o programa deve exibir `Opção inválida. Por favor, escolha novamente.`\n"
   ]
  },
  {
   "cell_type": "code",
   "execution_count": null,
   "metadata": {
    "id": "V9Ieop3KgrrL"
   },
   "outputs": [],
   "source": []
  }
 ],
 "metadata": {
  "colab": {
   "provenance": []
  },
  "kernelspec": {
   "display_name": "nvim-python",
   "language": "python",
   "name": "python3"
  },
  "language_info": {
   "codemirror_mode": {
    "name": "ipython",
    "version": 3
   },
   "file_extension": ".py",
   "mimetype": "text/x-python",
   "name": "python",
   "nbconvert_exporter": "python",
   "pygments_lexer": "ipython3",
   "version": "3.12.3"
  }
 },
 "nbformat": 4,
 "nbformat_minor": 0
}
