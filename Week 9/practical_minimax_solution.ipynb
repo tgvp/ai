{
  "cells": [
    {
      "cell_type": "markdown",
      "metadata": {
        "id": "38772372"
      },
      "source": [
        "# Algoritmo Minimax\n",
        "\n",
        "O Minimax é um algoritmo utilizado principalmente em jogos de dois jogadores (como xadrez, jogo da velha, damas) para decidir o melhor movimento. Ele simula todos os movimentos possíveis no futuro e assume que o oponente jogará da melhor forma possível para dificultar sua vitória."
      ]
    },
    {
      "cell_type": "markdown",
      "metadata": {
        "id": "8f7c5be2"
      },
      "source": [
        "## Árvore de Decisão no Minimax\n",
        "\n",
        "O Minimax constrói uma árvore onde cada nó representa um estado do jogo. A raiz da árvore é o estado atual do jogo, e cada filho representa uma jogada possível. O algoritmo percorre essa árvore até estados finais (vitória, derrota ou empate) e avalia cada estado final usando uma função de utilidade (ou função de avaliação)."
      ]
    },
    {
      "cell_type": "markdown",
      "metadata": {
        "id": "50099a99"
      },
      "source": [
        "## Estratégia de Maximizar e Minimizar\n",
        "\n",
        "- **Jogador Max:** Tenta maximizar o valor da função de utilidade (buscar a melhor jogada possível).\n",
        "- **Jogador Min:** Tenta minimizar o valor da função de utilidade (assumimos que o oponente joga perfeitamente para nos prejudicar).\n",
        "\n",
        "O algoritmo alterna entre esses dois comportamentos a cada nível da árvore."
      ]
    },
    {
      "cell_type": "markdown",
      "metadata": {
        "id": "7187c88d"
      },
      "source": [
        "## Aplicações do Minimax\n",
        "\n",
        "- Jogos de tabuleiro como **xadrez**, **jogo da velha**, **gamão**.\n",
        "- Jogos de cartas competitivos.\n",
        "- Qualquer problema de decisão onde há competição entre duas partes."
      ]
    },
    {
      "cell_type": "markdown",
      "metadata": {
        "id": "4fc0efc7"
      },
      "source": [
        "## Complexidade do Minimax\n",
        "\n",
        "- **Complexidade de Tempo:** O número de nós da árvore é `O(b^d)`, onde:\n",
        "  - `b` é o fator de ramificação (número de jogadas possíveis em cada estado);\n",
        "  - `d` é a profundidade máxima da árvore.\n",
        "\n",
        "- **Complexidade de Espaço:** Depende da implementação:\n",
        "  - Se for recursiva e em profundidade (`depth-first`), a complexidade de espaço é `O(d)`.\n",
        "\n",
        "Por isso, o Minimax puro é inviável para jogos complexos como xadrez, a não ser que limites de profundidade sejam impostos."
      ]
    },
    {
      "cell_type": "markdown",
      "metadata": {
        "id": "8e7c6cf1"
      },
      "source": [
        "## Melhorias: Poda Alfa-Beta\n",
        "\n",
        "A **poda alfa-beta** é uma técnica que otimiza o Minimax ignorando ramos da árvore que não precisam ser explorados porque já sabemos que não serão escolhidos.\n",
        "\n",
        "Isso reduz drasticamente o número de nós visitados, mantendo o mesmo resultado final.\n",
        "\n",
        "- **Alfa (α):** Melhor valor (mais alto) que o jogador Max pode garantir.\n",
        "- **Beta (β):** Melhor valor (mais baixo) que o jogador Min pode garantir.\n",
        "\n",
        "Sempre que `beta <= alpha`, podemos podar o restante dos nós filhos."
      ]
    },
    {
      "cell_type": "markdown",
      "metadata": {
        "id": "6768c934"
      },
      "source": [
        "# Conclusão\n",
        "\n",
        "O algoritmo Minimax, apesar de simples conceitualmente, é extremamente poderoso para jogos de soma zero de dois jogadores. Sua principal limitação é o custo computacional, que pode ser mitigado com técnicas como poda alfa-beta.\n",
        "\n",
        "Compreender Minimax é fundamental para trabalhar com inteligência artificial em jogos e em diversas situações de decisão estratégica."
      ]
    },
    {
      "cell_type": "markdown",
      "metadata": {
        "id": "IBniZsZbvm4w"
      },
      "source": [
        "# Bibliotecas"
      ]
    },
    {
      "cell_type": "code",
      "execution_count": 1,
      "metadata": {
        "id": "OZTwfZiFn73I"
      },
      "outputs": [],
      "source": [
        "#library para plot do grafo\n",
        "import networkx as nx\n",
        "#layout tipo arvore\n",
        "from networkx.drawing.nx_pydot import graphviz_layout\n",
        "\n",
        "#library para plot do grafo\n",
        "import matplotlib.pyplot as plt\n",
        "\n",
        "#biblioteca random\n",
        "import random"
      ]
    },
    {
      "cell_type": "markdown",
      "metadata": {
        "id": "w5IWme3Zwgk8"
      },
      "source": [
        "## Exercício 1:\n",
        "\n",
        "Gerar grafos aleatórios com branching factor b e profundidade d com valor para os elementos da sua base aleatórios de -10 até 10."
      ]
    },
    {
      "cell_type": "markdown",
      "metadata": {
        "id": "yrWkT66U0kN-"
      },
      "source": [
        "a) Para um dado depth factor `d` e para um Branching factor `b`, gere um codigo em python que produza um grafo, representando-o no formato lista de tuplas.\n",
        "\n",
        "Ex: `[(1,2),(1,4), (4,5)....]`\n",
        "\n",
        "Para o caso acima o nó 1 tem uma ligação com o nó dois e 4. O nó 4 tem uma ligação com o nó 5."
      ]
    },
    {
      "cell_type": "code",
      "execution_count": 2,
      "metadata": {
        "colab": {
          "base_uri": "https://localhost:8080/"
        },
        "id": "jnNpzHLyy1j8",
        "outputId": "bb6b60d9-fa63-4343-cd9a-38435d478fda"
      },
      "outputs": [
        {
          "output_type": "stream",
          "name": "stdout",
          "text": [
            "[(0, 1), (1, 2), (2, 3), (2, 4), (1, 5), (5, 6), (5, 7), (0, 8), (8, 9), (9, 10), (9, 11), (8, 12), (12, 13), (12, 14)]\n"
          ]
        }
      ],
      "source": [
        "#funcao gera grafo\n",
        "def generate_tree_graph(depth, branching_factor):\n",
        "  #cria a lista de nomes de nós a partirt do b e do d\n",
        "  list_nodes = sorted(list(range(sum([branching_factor**x for x in range(depth+1)]))),reverse=True)\n",
        "\n",
        "  #lista das tuplas\n",
        "  graph = []\n",
        "\n",
        "  #input: d do grafo e b do grafo\n",
        "  #output: lista de tuplas com nós numericos.\n",
        "\n",
        "  #funcao recursiva\n",
        "  def generate_edges(parent, current_depth,graph):\n",
        "    #condiçao de saida da recursao\n",
        "    #ele vai criando nós até que chegue no d esperado\n",
        "    if current_depth == depth:\n",
        "      return\n",
        "    #para cada nó criado ele vai criar filhos com base no b\n",
        "    for i in range(1, branching_factor + 1):\n",
        "\n",
        "      # cria o nome do child\n",
        "      child = list_nodes.pop(-1)\n",
        "      #faz append da ligacao\n",
        "      graph.append((parent, child))\n",
        "      #gera um novo edge\n",
        "      generate_edges(child, current_depth + 1,graph)\n",
        "\n",
        "  #cria o primeiro nó de nome 1\n",
        "  generate_edges(list_nodes.pop(-1), 0,graph)\n",
        "\n",
        "  return graph\n",
        "\n",
        "# Exemplo de uso:\n",
        "depth = 3\n",
        "branching_factor = 2\n",
        "tree_graph = generate_tree_graph(depth, branching_factor)\n",
        "print(tree_graph)\n"
      ]
    },
    {
      "cell_type": "markdown",
      "metadata": {
        "id": "8u0xPgtq7C2L"
      },
      "source": [
        "b) Em seguinda atribua um valor (utility) ou um valor para os nós na base do grafo. Use um dicionário `labels_dic` para faze-lo. Comece aqui a trabalhar com a biblioteca `networkx` ela é especializada em grafos. (Dica: pesquise o método `.degree` de um grafo)\n",
        "\n",
        "Ex: `{1:'', 2:'', 9:'',...}`"
      ]
    },
    {
      "cell_type": "code",
      "execution_count": 3,
      "metadata": {
        "id": "JlVuG-Pl5goV"
      },
      "outputs": [],
      "source": [
        "#cria o node\n",
        "G = nx.DiGraph()\n",
        "\n",
        "#insere os nós e os edges com base no grafo gerado acima\n",
        "G.add_edges_from(tree_graph)\n",
        "#cria o dicionário\n",
        "labels_dic = {node:random.randint(-10, 10) if G.degree[node]==1 else None for node in G}\n",
        "# labels_dic = {node:random.randint(-10, 10) for node in G}\n",
        "# labels_dic\n"
      ]
    },
    {
      "cell_type": "markdown",
      "metadata": {
        "id": "YaJn5omf7udD"
      },
      "source": [
        "c) Agora vamos tentar imprimir o que gerou. Também faz parte tentar receber funções de outros programadores e tentar atender os parametros de entrada. Utilizando a funcao dada abaixo atenda os requisitos do input e veja o que acontece."
      ]
    },
    {
      "cell_type": "code",
      "execution_count": 4,
      "metadata": {
        "colab": {
          "base_uri": "https://localhost:8080/",
          "height": 572
        },
        "id": "WDrbN6xooIUG",
        "outputId": "b6d81956-e9b5-4fc1-f896-3c1e0e224913"
      },
      "outputs": [
        {
          "output_type": "stream",
          "name": "stdout",
          "text": [
            "Nodes: [(0, {'value': None}), (1, {'value': None}), (2, {'value': None}), (3, {'value': 8}), (4, {'value': -7}), (5, {'value': None}), (6, {'value': 5}), (7, {'value': -1}), (8, {'value': None}), (9, {'value': None}), (10, {'value': 6}), (11, {'value': 2}), (12, {'value': None}), (13, {'value': 1}), (14, {'value': 4})]\n",
            "Edges: [(0, 1), (0, 8), (1, 2), (1, 5), (2, 3), (2, 4), (5, 6), (5, 7), (8, 9), (8, 12), (9, 10), (9, 11), (12, 13), (12, 14)]\n"
          ]
        },
        {
          "output_type": "display_data",
          "data": {
            "text/plain": [
              "<Figure size 640x480 with 1 Axes>"
            ],
            "image/png": "[encoded data removed]"
          },
          "metadata": {}
        }
      ],
      "source": [
        "#funcao que printa o grafo\n",
        "def print_grafo(graph,labels_dic,values=False):\n",
        "\n",
        "  #parametros e entrada\n",
        "  ######\n",
        "  #list_edges deve ser uma lista de tuplas\n",
        "  #list_edges = [(1,2),(3,4)....]\n",
        "  #Cada edge representa uma ligacao entre nós\n",
        "  #values (default False) é se quer imprimir o grafo com os nomes dos nós ou com seus valores atribuidos\n",
        "  ######\n",
        "  #labels_dic é um dicionário com o peso de cada nó\n",
        "  #labels_dic = {1:4,2:2,3:5,....}\n",
        "\n",
        "  #cria o node\n",
        "  G = nx.DiGraph()\n",
        "\n",
        "  #insere os nós e os edges\n",
        "  G.add_edges_from(graph)\n",
        "\n",
        "  #gera a posicao e organiza em arvore\n",
        "  pos = graphviz_layout(G, prog=\"dot\")\n",
        "\n",
        "  for node in G:\n",
        "    G.nodes[node][\"value\"] = labels_dic[node]\n",
        "\n",
        "  # Printa a informacao do grafo (opcional)\n",
        "  print(\"Nodes:\", G.nodes(data=True))\n",
        "  print(\"Edges:\", G.edges())\n",
        "\n",
        "  #faz plot\n",
        "  if values:\n",
        "    nx.draw(G, pos,with_labels=True,labels=labels_dic)\n",
        "  else:\n",
        "    nx.draw(G,pos,with_labels=True)\n",
        "\n",
        "  plt.draw()\n",
        "  plt.show()\n",
        "\n",
        "  return G\n",
        "\n",
        "\n",
        "G = print_grafo(tree_graph,labels_dic,True)"
      ]
    },
    {
      "cell_type": "markdown",
      "metadata": {
        "id": "19vzzV9H7kDe"
      },
      "source": [
        "## Exercício 2:\n",
        "\n",
        "Agora ja tem um bom grafo para trabalhar com minimax. crie uma função que receba como parâmetro o grafo que você criou acima, nó alvo e qual comportamento de jogador esse nó deve ter (max ou min). Sua função deve retornar qual jogada o jogador deve fazer logo a seguir o nó alvo."
      ]
    },
    {
      "cell_type": "code",
      "execution_count": 5,
      "metadata": {
        "colab": {
          "base_uri": "https://localhost:8080/"
        },
        "id": "3nCU_2OpdvNm",
        "outputId": "cedcb99b-151a-47d8-8079-e6127a552ee2"
      },
      "outputs": [
        {
          "output_type": "stream",
          "name": "stdout",
          "text": [
            "Nodes: [(0, {'value': None}), (1, {'value': None}), (2, {'value': None}), (3, {'value': 8}), (4, {'value': -7}), (5, {'value': None}), (6, {'value': 5}), (7, {'value': -1}), (8, {'value': None}), (9, {'value': None}), (10, {'value': 6}), (11, {'value': 2}), (12, {'value': None}), (13, {'value': 1}), (14, {'value': 4})]\n",
            "Edges: [(0, 1), (0, 8), (1, 2), (1, 5), (2, 3), (2, 4), (5, 6), (5, 7), (8, 9), (8, 12), (9, 10), (9, 11), (12, 13), (12, 14)]\n"
          ]
        }
      ],
      "source": [
        "print(\"Nodes:\", G.nodes(data=True))\n",
        "print(\"Edges:\", G.edges())"
      ]
    },
    {
      "cell_type": "code",
      "execution_count": 6,
      "metadata": {
        "id": "T2NJwy_Yeaim"
      },
      "outputs": [],
      "source": [
        "def minimax(G, n, player='maxplayer'):\n",
        "\n",
        "    #recebe como parâmetro:\n",
        "    #G = Grafo\n",
        "    #n = nó analisado\n",
        "    #player = caracteristica do player naquele nó\n",
        "\n",
        "\n",
        "    def _minimax(G, n, player):\n",
        "        # Vai descendo os nós até achar um value\n",
        "        if G.nodes[n][\"value\"]!=None:\n",
        "            return G.nodes[n][\"value\"]\n",
        "\n",
        "\n",
        "        if player == 'maxplayer':\n",
        "            #funcao player max\n",
        "            #imaginando um valor muito baixo\n",
        "            bestv = float(\"-inf\")\n",
        "            #para cada filho\n",
        "            for child in G.successors(n):\n",
        "                #pega o valor contido no nó\n",
        "                v = _minimax(G, child, 'minplayer')\n",
        "                #fica com o maior numero\n",
        "                bestv = max(bestv, v)\n",
        "                print(f'Entrou no max eo valor analisado é {child,v}')\n",
        "\n",
        "            print(f'No final ele optou por {bestv}')\n",
        "\n",
        "        else:\n",
        "            #funcao player min\n",
        "            #imaginando um valor muito alto\n",
        "            bestv = float(\"inf\")\n",
        "            #para cada filho\n",
        "            for child in G.successors(n):\n",
        "                #pega o valor contido no nó\n",
        "                v = _minimax(G, child, 'maxplayer')\n",
        "                #fica com o menor numero\n",
        "                bestv = min(bestv, v)\n",
        "                print(f'Entrou no min eo valor analisado é {child,v}')\n",
        "\n",
        "            print(f'No final ele optou por {bestv}')\n",
        "\n",
        "\n",
        "        return bestv\n",
        "\n",
        "    #inicia no nó foco e se expande para os nós seguintes com base na caracteristica do player\n",
        "\n",
        "    if player=='maxplayer':\n",
        "\n",
        "      #inicia as variaveis de saida\n",
        "      #melhor movimento\n",
        "      best_move = None\n",
        "      #melhor numero numero muito pequeno\n",
        "      bestv = float(\"-inf\")\n",
        "\n",
        "\n",
        "      #para cada sucessor do nó de caracteristica maxima aplica-se um min\n",
        "      for child in G.successors(n):\n",
        "          print()\n",
        "          print(f\"Nó filho analisado: {child}\")\n",
        "          #minplayer\n",
        "          v = _minimax(G, child, 'minplayer')\n",
        "          #se é um max portanto ele quer ficar com o valor maior\n",
        "          if v > bestv:\n",
        "              best_move = child\n",
        "              bestv = v\n",
        "\n",
        "    else:\n",
        "\n",
        "\n",
        "      #melhor movimento\n",
        "      best_move = None\n",
        "      #melhor numero numero muito grande\n",
        "      bestv = float(\"inf\")\n",
        "\n",
        "      #para cada sucessor do nó de caracteristica minima aplica-se um max\n",
        "      for child in G.successors(n):\n",
        "          print()\n",
        "          print(f\"Nó filho analisado: {child}\")\n",
        "\n",
        "          v = _minimax(G, child, 'maxplayer')\n",
        "          if v < bestv:\n",
        "\n",
        "              best_move = child\n",
        "              bestv = v\n",
        "              print(f\"até o momento({best_move,bestv})\")\n",
        "\n",
        "\n",
        "    return (best_move, bestv)"
      ]
    },
    {
      "cell_type": "code",
      "execution_count": 7,
      "metadata": {
        "colab": {
          "base_uri": "https://localhost:8080/"
        },
        "id": "EIFnfCq39vGF",
        "outputId": "5821cca3-0fa0-421b-b651-5c9e5f10126d"
      },
      "outputs": [
        {
          "output_type": "stream",
          "name": "stdout",
          "text": [
            "\n",
            "Nó filho analisado: 1\n",
            "Entrou no max eo valor analisado é (3, 8)\n",
            "Entrou no max eo valor analisado é (4, -7)\n",
            "No final ele optou por 8\n",
            "Entrou no min eo valor analisado é (2, 8)\n",
            "Entrou no max eo valor analisado é (6, 5)\n",
            "Entrou no max eo valor analisado é (7, -1)\n",
            "No final ele optou por 5\n",
            "Entrou no min eo valor analisado é (5, 5)\n",
            "No final ele optou por 5\n",
            "\n",
            "Nó filho analisado: 8\n",
            "Entrou no max eo valor analisado é (10, 6)\n",
            "Entrou no max eo valor analisado é (11, 2)\n",
            "No final ele optou por 6\n",
            "Entrou no min eo valor analisado é (9, 6)\n",
            "Entrou no max eo valor analisado é (13, 1)\n",
            "Entrou no max eo valor analisado é (14, 4)\n",
            "No final ele optou por 4\n",
            "Entrou no min eo valor analisado é (12, 4)\n",
            "No final ele optou por 4\n"
          ]
        },
        {
          "output_type": "execute_result",
          "data": {
            "text/plain": [
              "(1, 5)"
            ]
          },
          "metadata": {},
          "execution_count": 7
        }
      ],
      "source": [
        "minimax(G, 0,'maxplayer')"
      ]
    },
    {
      "cell_type": "markdown",
      "metadata": {
        "id": "2M27L--Xpc-t"
      },
      "source": [
        "## Exercício 3:\n",
        "\n",
        "Que melhoria você propoe para o seu codigo acima? Discuta isso com o professor e veja sobre Alpha Beta Pruning. Implemente a rotina no seu código acima. O valor muda? O que muda?"
      ]
    },
    {
      "cell_type": "code",
      "execution_count": 8,
      "metadata": {
        "id": "3Jwi3mHGu2nT"
      },
      "outputs": [],
      "source": [
        "def minimax_alfa(G, n, player='maxplayer'):\n",
        "\n",
        "    def _minimax(G, n, player, alpha, beta):\n",
        "        #vai abrindo os valores dos nós até chegar na base\n",
        "        if G.nodes[n][\"value\"]!=None:\n",
        "            return G.nodes[n][\"value\"]\n",
        "\n",
        "\n",
        "        if player == 'maxplayer':\n",
        "            #maximizador\n",
        "            #atualiza o alfa\n",
        "            bestv = float(\"-inf\")\n",
        "            for child in G.successors(n):\n",
        "                v = _minimax(G, child, 'minplayer', alpha, beta)\n",
        "                bestv = max(bestv, v)\n",
        "                alpha = max(alpha, bestv)\n",
        "                print(f'Entrou no min eo valor analisado é {child,v}')\n",
        "                if beta <= alpha:\n",
        "                    print(\">>>>>>aplicou poda\")\n",
        "                    break\n",
        "\n",
        "\n",
        "            print(f'No final ele optou por {bestv}')\n",
        "\n",
        "            return bestv\n",
        "        else:\n",
        "            #minimizador\n",
        "            #atualiza o beta\n",
        "            bestv = float(\"inf\")\n",
        "            for child in G.successors(n):\n",
        "                v = _minimax(G, child, 'maxplayer', alpha, beta)\n",
        "                bestv = min(bestv, v)\n",
        "                beta = min(beta, bestv)\n",
        "                print(f'Entrou no min eo valor analisado é {child,v}')\n",
        "                if beta <= alpha:\n",
        "                    print(\">>>>>>aplicou poda\")\n",
        "                    break\n",
        "\n",
        "\n",
        "            print(f'No final ele optou por {bestv}')\n",
        "\n",
        "            return bestv\n",
        "\n",
        "\n",
        "    #se maxplayer\n",
        "    if player == 'maxplayer':\n",
        "        #inicia os valores\n",
        "        best_move = None\n",
        "        bestv = float(\"-inf\")\n",
        "        alpha = float(\"-inf\")\n",
        "        beta = float(\"inf\")\n",
        "\n",
        "        #para cada sucessor do nó alvo\n",
        "        for child in G.successors(n):\n",
        "\n",
        "            print()\n",
        "            print(f\"Nó filho analisado: {child}\")\n",
        "\n",
        "            #recebe v dos filhos\n",
        "            v = _minimax(G, child, 'minplayer', alpha, beta)\n",
        "            #se para o caso de max vai salvando os maiores\n",
        "\n",
        "            if v > bestv:\n",
        "                best_move = child\n",
        "                bestv = v\n",
        "                #além disso mantem no alfa o maior\n",
        "                alpha = max(alpha, bestv)\n",
        "    else:\n",
        "        #inicia os valores\n",
        "        best_move = None\n",
        "        bestv = float(\"inf\")\n",
        "        alpha = float(\"-inf\")\n",
        "        beta = float(\"inf\")\n",
        "\n",
        "        #para cada sucessor do nó alvo\n",
        "        for child in G.successors(n):\n",
        "\n",
        "            print()\n",
        "            print(f\"Nó filho analisado: {child}\")\n",
        "\n",
        "            v = _minimax(G, child, 'maxplayer', alpha, beta)\n",
        "            if v < bestv:\n",
        "                best_move = child\n",
        "                bestv = v\n",
        "                beta = min(beta, bestv)\n",
        "\n",
        "    return (best_move, bestv)"
      ]
    },
    {
      "cell_type": "code",
      "execution_count": 9,
      "metadata": {
        "colab": {
          "base_uri": "https://localhost:8080/"
        },
        "id": "D7KA7YoZ-kfM",
        "outputId": "3bd21275-2b61-49d5-d18a-adb1b7cfffe8"
      },
      "outputs": [
        {
          "output_type": "stream",
          "name": "stdout",
          "text": [
            "\n",
            "Nó filho analisado: 1\n",
            "Entrou no min eo valor analisado é (3, 8)\n",
            "Entrou no min eo valor analisado é (4, -7)\n",
            "No final ele optou por 8\n",
            "Entrou no min eo valor analisado é (2, 8)\n",
            "Entrou no min eo valor analisado é (6, 5)\n",
            "Entrou no min eo valor analisado é (7, -1)\n",
            "No final ele optou por 5\n",
            "Entrou no min eo valor analisado é (5, 5)\n",
            "No final ele optou por 5\n",
            "\n",
            "Nó filho analisado: 8\n",
            "Entrou no min eo valor analisado é (10, 6)\n",
            "Entrou no min eo valor analisado é (11, 2)\n",
            "No final ele optou por 6\n",
            "Entrou no min eo valor analisado é (9, 6)\n",
            "Entrou no min eo valor analisado é (13, 1)\n",
            "Entrou no min eo valor analisado é (14, 4)\n",
            "No final ele optou por 4\n",
            "Entrou no min eo valor analisado é (12, 4)\n",
            ">>>>>>aplicou poda\n",
            "No final ele optou por 4\n"
          ]
        },
        {
          "output_type": "execute_result",
          "data": {
            "text/plain": [
              "(1, 5)"
            ]
          },
          "metadata": {},
          "execution_count": 9
        }
      ],
      "source": [
        "minimax_alfa(G, 0,'maxplayer')"
      ]
    },
    {
      "cell_type": "code",
      "execution_count": 9,
      "metadata": {
        "id": "xO4Ridhr0uVu"
      },
      "outputs": [],
      "source": []
    }
  ],
  "metadata": {
    "colab": {
      "provenance": []
    },
    "kernelspec": {
      "display_name": "Python 3",
      "name": "python3"
    },
    "language_info": {
      "name": "python"
    }
  },
  "nbformat": 4,
  "nbformat_minor": 0
}