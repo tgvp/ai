{
 "cells": [
  {
   "cell_type": "markdown",
   "metadata": {},
   "source": [
    "# Minimax\n",
    "\n",
    "O **Minimax** é um algoritmo clássico da Inteligência Artificial usado principalmente em jogos de dois jogadores, como **xadrez** e **jogo da velha**. Ele busca simular todos os movimentos possíveis, assumindo que:\n",
    "\n",
    "- Você joga de forma **ótima** (quer maximizar sua chance de ganhar).\n",
    "- Seu oponente também joga de forma **ótima** (quer minimizar sua chance de ganhar).\n",
    "\n",
    "> O objetivo é **maximizar** o ganho mínimo garantido, daí o nome \"Minimax\"! 😉"
   ]
  },
  {
   "cell_type": "markdown",
   "metadata": {},
   "source": [
    "## 🌳 Árvore de Decisão no Minimax\n",
    "\n",
    "O Minimax constrói uma árvore de estados possíveis do jogo:\n",
    "\n",
    "- Cada **nó** representa uma configuração do jogo.\n",
    "- Cada **ramo** representa uma jogada possível.\n",
    "- **Folhas** representam estados finais (vitória, derrota ou empate).\n",
    "\n",
    "**Exemplo de árvore simplificada:**\n",
    "\n",
    "```\n",
    "                  (Você)\n",
    "          /         |         \\\n",
    "     (Oponente) (Oponente) (Oponente)\n",
    "        / \\        / \\        / \\\n",
    "      (F) (F)    (F) (F)    (F) (F)\n",
    "(F = folha: vitória, empate ou derrota)\n",
    "```"
   ]
  },
  {
   "cell_type": "markdown",
   "metadata": {
    "id": "IBniZsZbvm4w"
   },
   "source": [
    "# Bibliotecas"
   ]
  },
  {
   "cell_type": "code",
   "execution_count": 11,
   "metadata": {
    "executionInfo": {
     "elapsed": 513,
     "status": "ok",
     "timestamp": 1715517670808,
     "user": {
      "displayName": "Zuil Filho",
      "userId": "14731231616780016906"
     },
     "user_tz": -60
    },
    "id": "OZTwfZiFn73I"
   },
   "outputs": [],
   "source": [
    "#library para plot do grafo\n",
    "import networkx as nx\n",
    "#layout tipo arvore\n",
    "from networkx.drawing.nx_pydot import graphviz_layout\n",
    "\n",
    "#library para plot do grafo\n",
    "import matplotlib.pyplot as plt\n",
    "\n",
    "#biblioteca random\n",
    "import random"
   ]
  },
  {
   "cell_type": "markdown",
   "metadata": {
    "id": "w5IWme3Zwgk8"
   },
   "source": [
    "## Exercício 1:\n",
    "\n",
    "Gerar grafos aleatórios com branching factor b e profundidade d com valor para os elementos da sua base aleatórios de -10 até 10."
   ]
  },
  {
   "cell_type": "markdown",
   "metadata": {
    "id": "yrWkT66U0kN-"
   },
   "source": [
    "a) Para um dado depth factor `d` e para um Branching factor `b`, gere um codigo em python que produza um grafo, representando-o no formato lista de tuplas.\n",
    "\n",
    "Ex: `[(1,2),(1,4), (4,5)....]`\n",
    "\n",
    "Para o caso acima o nó 1 tem uma ligação com o nó dois e 4. O nó 4 tem uma ligação com o nó 5."
   ]
  },
  {
   "cell_type": "code",
   "execution_count": 12,
   "metadata": {
    "colab": {
     "base_uri": "https://localhost:8080/"
    },
    "executionInfo": {
     "elapsed": 2,
     "status": "ok",
     "timestamp": 1715517671218,
     "user": {
      "displayName": "Zuil Filho",
      "userId": "14731231616780016906"
     },
     "user_tz": -60
    },
    "id": "jnNpzHLyy1j8",
    "outputId": "4e2669a1-cf42-4b84-a0ab-82983fbcff95"
   },
   "outputs": [
    {
     "name": "stdout",
     "output_type": "stream",
     "text": [
      "[(0, 1), (1, 2), (2, 3), (2, 4), (1, 5), (5, 6), (5, 7), (0, 8), (8, 9), (9, 10), (9, 11), (8, 12), (12, 13), (12, 14)]\n"
     ]
    }
   ],
   "source": [
    "#funcao gera grafo\n",
    "def generate_tree_graph(depth, branching_factor):\n",
    "  #cria a lista de nomes de nós a partirt do b e do d\n",
    "  list_nodes = sorted(list(range(sum([branching_factor**x for x in range(depth+1)]))),reverse=True)\n",
    "\n",
    "  #lista das tuplas\n",
    "  graph = []\n",
    "\n",
    "  #input: d do grafo e b do grafo\n",
    "  #output: lista de tuplas com nós numericos.\n",
    "\n",
    "  #funcao recursiva\n",
    "  def generate_edges(parent, current_depth,graph):\n",
    "    #condiçao de saida da recursao\n",
    "    #ele vai criando nós até que chegue no d esperado\n",
    "    if current_depth == depth:\n",
    "      return\n",
    "    #para cada nó criado ele vai criar filhos com base no b\n",
    "    for i in range(1, branching_factor + 1):\n",
    "\n",
    "      # cria o nome do child\n",
    "      child = list_nodes.pop(-1)\n",
    "      #faz append da ligacao\n",
    "      graph.append((parent, child))\n",
    "      #gera um novo edge\n",
    "      generate_edges(child, current_depth + 1,graph)\n",
    "\n",
    "  #cria o primeiro nó de nome 1\n",
    "  generate_edges(list_nodes.pop(-1), 0,graph)\n",
    "\n",
    "  return graph\n",
    "\n",
    "# Exemplo de uso:\n",
    "depth = 3\n",
    "branching_factor = 2\n",
    "tree_graph = generate_tree_graph(depth, branching_factor)\n",
    "print(tree_graph)\n"
   ]
  },
  {
   "cell_type": "markdown",
   "metadata": {
    "id": "8u0xPgtq7C2L"
   },
   "source": [
    "b) Em seguinda atribua um valor (utility) ou um valor para os nós na base do grafo. Use um dicionário `labels_dic` para faze-lo. Comece aqui a trabalhar com a biblioteca `networkx` ela é especializada em grafos. (Dica: pesquise o método `.degree` de um grafo)\n",
    "\n",
    "Ex: `{1:'', 2:'', 9:'',...}`"
   ]
  },
  {
   "cell_type": "code",
   "execution_count": 13,
   "metadata": {
    "executionInfo": {
     "elapsed": 2,
     "status": "ok",
     "timestamp": 1715517671219,
     "user": {
      "displayName": "Zuil Filho",
      "userId": "14731231616780016906"
     },
     "user_tz": -60
    },
    "id": "JlVuG-Pl5goV"
   },
   "outputs": [],
   "source": [
    "#cria o node\n",
    "G = nx.DiGraph()\n",
    "\n",
    "#insere os nós e os edges com base no grafo gerado acima\n",
    "G.add_edges_from(tree_graph)\n",
    "#cria o dicionário\n",
    "labels_dic = {node:random.randint(-10, 10) if G.degree[node]==1 else None for node in G}\n",
    "# labels_dic = {node:random.randint(-10, 10) for node in G}\n",
    "# labels_dic\n"
   ]
  },
  {
   "cell_type": "markdown",
   "metadata": {
    "id": "YaJn5omf7udD"
   },
   "source": [
    "c) Agora vamos tentar imprimir o que gerou. Também faz parte tentar receber funções de outros programadores e tentar atender os parametros de entrada. Utilizando a funcao dada abaixo atenda os requisitos do input e veja o que acontece."
   ]
  },
  {
   "cell_type": "code",
   "execution_count": 14,
   "metadata": {
    "colab": {
     "base_uri": "https://localhost:8080/",
     "height": 570
    },
    "executionInfo": {
     "elapsed": 1495,
     "status": "ok",
     "timestamp": 1715517673010,
     "user": {
      "displayName": "Zuil Filho",
      "userId": "14731231616780016906"
     },
     "user_tz": -60
    },
    "id": "WDrbN6xooIUG",
    "outputId": "b07d6022-fa61-4918-8236-69ad8267b593"
   },
   "outputs": [
    {
     "name": "stdout",
     "output_type": "stream",
     "text": [
      "Nodes: [(0, {'value': None}), (1, {'value': None}), (2, {'value': None}), (3, {'value': -3}), (4, {'value': 0}), (5, {'value': None}), (6, {'value': 9}), (7, {'value': -5}), (8, {'value': None}), (9, {'value': None}), (10, {'value': -2}), (11, {'value': -1}), (12, {'value': None}), (13, {'value': 5}), (14, {'value': 5})]\n",
      "Edges: [(0, 1), (0, 8), (1, 2), (1, 5), (2, 3), (2, 4), (5, 6), (5, 7), (8, 9), (8, 12), (9, 10), (9, 11), (12, 13), (12, 14)]\n"
     ]
    },
    {
     "data": {
      "image/png": "[encoded data removed]",
      "text/plain": [
       "<Figure size 640x480 with 1 Axes>"
      ]
     },
     "metadata": {},
     "output_type": "display_data"
    }
   ],
   "source": [
    "#funcao que printa o grafo\n",
    "def print_grafo(graph,labels_dic,values=False):\n",
    "\n",
    "  #parametros e entrada\n",
    "  ######\n",
    "  #list_edges deve ser uma lista de tuplas\n",
    "  #list_edges = [(1,2),(3,4)....]\n",
    "  #Cada edge representa uma ligacao entre nós\n",
    "  #values (default False) é se quer imprimir o grafo com os nomes dos nós ou com seus valores atribuidos\n",
    "  ######\n",
    "  #labels_dic é um dicionário com o peso de cada nó\n",
    "  #labels_dic = {1:4,2:2,3:5,....}\n",
    "\n",
    "  #cria o node\n",
    "  G = nx.DiGraph()\n",
    "\n",
    "  #insere os nós e os edges\n",
    "  G.add_edges_from(graph)\n",
    "\n",
    "  #gera a posicao e organiza em arvore\n",
    "  pos = graphviz_layout(G, prog=\"dot\")\n",
    "\n",
    "  for node in G:\n",
    "    G.nodes[node][\"value\"] = labels_dic[node]\n",
    "\n",
    "  # Printa a informacao do grafo (opcional)\n",
    "  print(\"Nodes:\", G.nodes(data=True))\n",
    "  print(\"Edges:\", G.edges())\n",
    "\n",
    "  #faz plot\n",
    "  if values:\n",
    "    nx.draw(G, pos,with_labels=True,labels=labels_dic)\n",
    "  else:\n",
    "    nx.draw(G,pos,with_labels=True)\n",
    "\n",
    "  plt.draw()\n",
    "  plt.show()\n",
    "\n",
    "  return G\n",
    "\n",
    "\n",
    "G = print_grafo(tree_graph,labels_dic,True)"
   ]
  },
  {
   "cell_type": "markdown",
   "metadata": {
    "id": "19vzzV9H7kDe"
   },
   "source": [
    "## Exercício 2:\n",
    "\n",
    "Agora ja tem um bom grafo para trabalhar com minimax. crie uma função que receba como parâmetro o grafo que você criou acima, nó alvo e qual comportamento de jogador esse nó deve ter (max ou min). Sua função deve retornar qual jogada o jogador deve fazer logo a seguir o nó alvo."
   ]
  },
  {
   "cell_type": "code",
   "execution_count": 15,
   "metadata": {
    "colab": {
     "base_uri": "https://localhost:8080/"
    },
    "executionInfo": {
     "elapsed": 2,
     "status": "ok",
     "timestamp": 1715517673010,
     "user": {
      "displayName": "Zuil Filho",
      "userId": "14731231616780016906"
     },
     "user_tz": -60
    },
    "id": "3nCU_2OpdvNm",
    "outputId": "4f0c9d7e-2c30-4b05-ada6-82bea992e0e7"
   },
   "outputs": [
    {
     "name": "stdout",
     "output_type": "stream",
     "text": [
      "Nodes: [(0, {'value': None}), (1, {'value': None}), (2, {'value': None}), (3, {'value': -3}), (4, {'value': 0}), (5, {'value': None}), (6, {'value': 9}), (7, {'value': -5}), (8, {'value': None}), (9, {'value': None}), (10, {'value': -2}), (11, {'value': -1}), (12, {'value': None}), (13, {'value': 5}), (14, {'value': 5})]\n",
      "Edges: [(0, 1), (0, 8), (1, 2), (1, 5), (2, 3), (2, 4), (5, 6), (5, 7), (8, 9), (8, 12), (9, 10), (9, 11), (12, 13), (12, 14)]\n"
     ]
    }
   ],
   "source": [
    "print(\"Nodes:\", G.nodes(data=True))\n",
    "print(\"Edges:\", G.edges())"
   ]
  },
  {
   "cell_type": "code",
   "execution_count": null,
   "metadata": {
    "executionInfo": {
     "elapsed": 256,
     "status": "ok",
     "timestamp": 1715517676494,
     "user": {
      "displayName": "Zuil Filho",
      "userId": "14731231616780016906"
     },
     "user_tz": -60
    },
    "id": "T2NJwy_Yeaim"
   },
   "outputs": [],
   "source": [
    "def minimax(G, n, player='maxplayer'):\n",
    "\n",
    "    #recebe como parâmetro:\n",
    "    #G = Grafo\n",
    "    #n = nó analisado\n",
    "    #player = caracteristica do player naquele nó\n",
    "\n",
    "\n",
    "    return (best_move, bestv)"
   ]
  },
  {
   "cell_type": "code",
   "execution_count": 17,
   "metadata": {
    "colab": {
     "base_uri": "https://localhost:8080/"
    },
    "executionInfo": {
     "elapsed": 3,
     "status": "ok",
     "timestamp": 1715517677946,
     "user": {
      "displayName": "Zuil Filho",
      "userId": "14731231616780016906"
     },
     "user_tz": -60
    },
    "id": "EIFnfCq39vGF",
    "outputId": "78814c28-d034-4aa5-febb-cf4ad6695d73"
   },
   "outputs": [
    {
     "name": "stdout",
     "output_type": "stream",
     "text": [
      "\n",
      "Nó filho analisado: 1\n",
      "Entrou no max eo valor analisado é (3, -3)\n",
      "Entrou no max eo valor analisado é (4, 0)\n",
      "No final ele optou por 0\n",
      "Entrou no min eo valor analisado é (2, 0)\n",
      "Entrou no max eo valor analisado é (6, 9)\n",
      "Entrou no max eo valor analisado é (7, -5)\n",
      "No final ele optou por 9\n",
      "Entrou no min eo valor analisado é (5, 9)\n",
      "No final ele optou por 0\n",
      "\n",
      "Nó filho analisado: 8\n",
      "Entrou no max eo valor analisado é (10, -2)\n",
      "Entrou no max eo valor analisado é (11, -1)\n",
      "No final ele optou por -1\n",
      "Entrou no min eo valor analisado é (9, -1)\n",
      "Entrou no max eo valor analisado é (13, 5)\n",
      "Entrou no max eo valor analisado é (14, 5)\n",
      "No final ele optou por 5\n",
      "Entrou no min eo valor analisado é (12, 5)\n",
      "No final ele optou por -1\n"
     ]
    },
    {
     "data": {
      "text/plain": [
       "(1, 0)"
      ]
     },
     "execution_count": 17,
     "metadata": {},
     "output_type": "execute_result"
    }
   ],
   "source": [
    "minimax(G, 0,'maxplayer')"
   ]
  },
  {
   "cell_type": "markdown",
   "metadata": {
    "id": "2M27L--Xpc-t"
   },
   "source": [
    "### Exercício 3\n",
    "- O algoritmo Minimax pode ser muito lento para árvores grandes.\n",
    "\n",
    "- **Poda Alfa-Beta** é uma técnica para acelerar a execução descartando ramos que não podem melhorar a decisão final.\n",
    "Você irá implementar a versão otimizada agora."
   ]
  },
  {
   "cell_type": "code",
   "execution_count": null,
   "metadata": {
    "executionInfo": {
     "elapsed": 274,
     "status": "ok",
     "timestamp": 1715517710000,
     "user": {
      "displayName": "Zuil Filho",
      "userId": "14731231616780016906"
     },
     "user_tz": -60
    },
    "id": "3Jwi3mHGu2nT"
   },
   "outputs": [],
   "source": [
    "def minimax_alfa_beta(G, n, player='maxplayer'):\n",
    "    pass"
   ]
  },
  {
   "cell_type": "code",
   "execution_count": null,
   "metadata": {
    "colab": {
     "base_uri": "https://localhost:8080/"
    },
    "executionInfo": {
     "elapsed": 275,
     "status": "ok",
     "timestamp": 1715517712372,
     "user": {
      "displayName": "Zuil Filho",
      "userId": "14731231616780016906"
     },
     "user_tz": -60
    },
    "id": "D7KA7YoZ-kfM",
    "outputId": "087943cd-2150-4193-8038-b7dcf43d1e80"
   },
   "outputs": [
    {
     "name": "stdout",
     "output_type": "stream",
     "text": [
      "\n",
      "Nó filho analisado: 1\n",
      "Entrou no min eo valor analisado é (3, -3)\n",
      "Entrou no min eo valor analisado é (4, 0)\n",
      "No final ele optou por 0\n",
      "Entrou no min eo valor analisado é (2, 0)\n",
      "Entrou no min eo valor analisado é (6, 9)\n",
      ">>>>>>aplicou poda\n",
      "No final ele optou por 9\n",
      "Entrou no min eo valor analisado é (5, 9)\n",
      "No final ele optou por 0\n",
      "\n",
      "Nó filho analisado: 8\n",
      "Entrou no min eo valor analisado é (10, -2)\n",
      "Entrou no min eo valor analisado é (11, -1)\n",
      "No final ele optou por -1\n",
      "Entrou no min eo valor analisado é (9, -1)\n",
      ">>>>>>aplicou poda\n",
      "No final ele optou por -1\n"
     ]
    },
    {
     "data": {
      "text/plain": [
       "(1, 0)"
      ]
     },
     "execution_count": 21,
     "metadata": {},
     "output_type": "execute_result"
    }
   ],
   "source": [
    "minimax_alfa_beta(G, 0,'maxplayer')"
   ]
  },
  {
   "cell_type": "code",
   "execution_count": null,
   "metadata": {
    "id": "xO4Ridhr0uVu"
   },
   "outputs": [],
   "source": []
  }
 ],
 "metadata": {
  "colab": {
   "provenance": []
  },
  "kernelspec": {
   "display_name": "Python 3",
   "name": "python3"
  },
  "language_info": {
   "name": "python"
  }
 },
 "nbformat": 4,
 "nbformat_minor": 0
}
