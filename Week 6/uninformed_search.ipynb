{
 "cells": [
  {
   "cell_type": "code",
   "execution_count": null,
   "metadata": {},
   "outputs": [],
   "source": [
    "#Traversing means visiting each node of the graph\n",
    "\n",
    "# Start by putting any one of the graph’s vertices at the back of the queue.\n",
    "# Now take the front item of the queue and add it to the visited list.\n",
    "# Create a list of that vertex's adjacent nodes. Add those which are not within the visited list to the rear of the queue.\n",
    "# Keep continuing steps two and three till the queue is empty."
   ]
  },
  {
   "cell_type": "code",
   "execution_count": 107,
   "metadata": {},
   "outputs": [],
   "source": [
    "def expand(g,target_node):\n",
    "    list_reach = []\n",
    "    for node in g:\n",
    "        if node[0]==target_node:\n",
    "            list_reach.append(node[1])\n",
    "\n",
    "    return list_reach\n"
   ]
  },
  {
   "cell_type": "code",
   "execution_count": 109,
   "metadata": {},
   "outputs": [
    {
     "name": "stdout",
     "output_type": "stream",
     "text": [
      "Target: ['B']\n",
      "Full list: ['D', 'E']\n",
      "Target: ['D']\n",
      "Full list: ['E']\n",
      "Target: ['E']\n",
      "Full list: []\n"
     ]
    }
   ],
   "source": [
    "#graph\n",
    "g = [\n",
    "  ('A','B'),\n",
    "  ('A','C'),\n",
    "  ('B','D'),\n",
    "  ('B','E'),\n",
    "  ('C','F'),  \n",
    "  \n",
    "]\n",
    "\n",
    "# g = {\n",
    "#   'A':['B','C'],\n",
    "#   'B':['D','E'],\n",
    "# ... \n",
    "  \n",
    "# }\n",
    "\n",
    "\n",
    "init = ['B']\n",
    "goal = ['F']\n",
    "\n",
    "q = init  #Initialize a queue\n",
    "\n",
    "while q:\n",
    "  h = q[0:1] #head\n",
    "  print('Target:', h)\n",
    "  r = q[1:] #rest\n",
    "\n",
    "  if h == goal:\n",
    "    break\n",
    "  else:\n",
    "    e = expand(g,h[0])\n",
    "    q = r + e\n",
    "    print('Full list:', q)\n"
   ]
  },
  {
   "cell_type": "code",
   "execution_count": 97,
   "metadata": {},
   "outputs": [
    {
     "name": "stdout",
     "output_type": "stream",
     "text": [
      "Target: ['A']\n",
      "Full list: deque(['B'])\n",
      "Target: ['B']\n",
      "Full list: deque(['D', 'C'])\n",
      "Target: ['D']\n",
      "Full list: deque(['C', 'E'])\n",
      "Target: ['C']\n",
      "Full list: deque(['E', 'A'])\n",
      "Target: ['E']\n",
      "Full list: deque(['A', 'F'])\n",
      "Target: ['A']\n",
      "Full list: deque(['F', 'B'])\n",
      "Target: ['F']\n",
      "Full list: deque(['B', 'G'])\n",
      "Target: ['B']\n",
      "Full list: deque(['G', 'D', 'C'])\n",
      "Target: ['G']\n"
     ]
    }
   ],
   "source": [
    "from collections import deque \n",
    "\n",
    "#graph\n",
    "g = {\n",
    "  ('A','B'),\n",
    "  ('B','C'),\n",
    "  ('C','A'),\n",
    "  ('B','D'),\n",
    "  ('D','E'),\n",
    "  ('E','F'),\n",
    "  ('F','G')\n",
    "}\n",
    "\n",
    "\n",
    "init = ['A']\n",
    "goal = ['G']\n",
    "\n",
    "q = deque(init)    #Initialize a queue\n",
    "\n",
    "while q:\n",
    "  h = q.popleft()\n",
    "  print('Target:',[h])\n",
    "  if [h] == goal:\n",
    "    break\n",
    "  else:\n",
    "    e = expand(g,h)\n",
    "    q += e\n",
    "    list_q = sorted(q)\n",
    "    # q = deque(list_q)\n",
    "    print('Full list:', q)\n",
    "\n"
   ]
  },
  {
   "cell_type": "code",
   "execution_count": 13,
   "metadata": {},
   "outputs": [
    {
     "name": "stdout",
     "output_type": "stream",
     "text": [
      "Target: ['A']\n",
      "Full list: deque(['B'])\n",
      "Target: ['B']\n",
      "Full list: deque(['D', 'C'])\n",
      "Target: ['D']\n",
      "Full list: deque(['C', 'E'])\n",
      "Target: ['C']\n",
      "Full list: deque(['E'])\n",
      "Target: ['E']\n",
      "Full list: deque(['F'])\n",
      "Target: ['F']\n",
      "Full list: deque(['G'])\n",
      "Target: ['G']\n"
     ]
    }
   ],
   "source": [
    "from collections import deque \n",
    "\n",
    "#graph\n",
    "g = {\n",
    "  ('A','B'),\n",
    "  ('B','C'),\n",
    "  ('C','A'),\n",
    "  ('B','D'),\n",
    "  ('D','E'),\n",
    "  ('E','F'),\n",
    "  ('F','G')\n",
    "}\n",
    "\n",
    "\n",
    "init = ['A']\n",
    "goal = ['G']\n",
    "\n",
    "v = []\n",
    "\n",
    "q = deque(init)    #Initialize a queue\n",
    "\n",
    "while q:\n",
    "  h = q.popleft()\n",
    "  print('Target:',[h])\n",
    "  v.append(h)\n",
    "  if [h] == goal:\n",
    "    break\n",
    "  else:\n",
    "    e = expand(g,h)\n",
    "    q += [x for x in e if x not in v]\n",
    "    print('Full list:', q)\n",
    "\n"
   ]
  },
  {
   "cell_type": "code",
   "execution_count": 147,
   "metadata": {},
   "outputs": [],
   "source": [
    "def expand(g,target_node):\n",
    "    list_reach = []\n",
    "    \n",
    "    for node in g:\n",
    "        if node[0]==target_node[0][0]:\n",
    "            temp = target_node[0][1] + [node[1]]\n",
    "            list_reach.append(\n",
    "                [node[1],temp]\n",
    "                )\n",
    "\n",
    "    return list_reach "
   ]
  },
  {
   "cell_type": "code",
   "execution_count": 150,
   "metadata": {},
   "outputs": [],
   "source": [
    "#graph\n",
    "g = {\n",
    "  ('A','B'),\n",
    "  ('A','C'),\n",
    "  ('B','C'),\n",
    "  ('B','D'),\n",
    "  ('D','E'),\n",
    "  ('E','F'),\n",
    "  ('C','F')\n",
    "  # ('E','B'),\n",
    "  \n",
    "}\n",
    "\n",
    "init = [['A',['A']]]\n",
    "goal = 'F'\n",
    "\n",
    "list_paths = []\n",
    "v = []\n",
    "\n",
    "q = deque(init)\n",
    "\n",
    "while q:\n",
    "  h = q.popleft()\n",
    "  list_paths.append(h)\n",
    "  # v.append(h)\n",
    "  e = expand(g,[h])\n",
    "  q +=  e"
   ]
  },
  {
   "cell_type": "code",
   "execution_count": 152,
   "metadata": {},
   "outputs": [
    {
     "data": {
      "text/plain": [
       "[['A', ['A']],\n",
       " ['C', ['A', 'C']],\n",
       " ['B', ['A', 'B']],\n",
       " ['F', ['A', 'C', 'F']],\n",
       " ['D', ['A', 'B', 'D']],\n",
       " ['C', ['A', 'B', 'C']],\n",
       " ['E', ['A', 'B', 'D', 'E']],\n",
       " ['F', ['A', 'B', 'C', 'F']],\n",
       " ['F', ['A', 'B', 'D', 'E', 'F']]]"
      ]
     },
     "execution_count": 152,
     "metadata": {},
     "output_type": "execute_result"
    }
   ],
   "source": [
    "list_paths"
   ]
  },
  {
   "cell_type": "code",
   "execution_count": 151,
   "metadata": {},
   "outputs": [
    {
     "name": "stdout",
     "output_type": "stream",
     "text": [
      "['F', ['A', 'C', 'F']]\n",
      "['F', ['A', 'B', 'C', 'F']]\n",
      "['F', ['A', 'B', 'D', 'E', 'F']]\n"
     ]
    }
   ],
   "source": [
    "for x in list_paths:\n",
    "    if x[0]== goal:\n",
    "        print(x)"
   ]
  },
  {
   "cell_type": "code",
   "execution_count": null,
   "metadata": {},
   "outputs": [],
   "source": []
  }
 ],
 "metadata": {
  "kernelspec": {
   "display_name": "data_science",
   "language": "python",
   "name": "python3"
  },
  "language_info": {
   "codemirror_mode": {
    "name": "ipython",
    "version": 3
   },
   "file_extension": ".py",
   "mimetype": "text/x-python",
   "name": "python",
   "nbconvert_exporter": "python",
   "pygments_lexer": "ipython3",
   "version": "3.12.2"
  }
 },
 "nbformat": 4,
 "nbformat_minor": 2
}
