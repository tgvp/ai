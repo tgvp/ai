{
 "cells": [
  {
   "cell_type": "markdown",
   "id": "6d147875",
   "metadata": {},
   "source": [
    "# Processamento de Linguagem Natural (NLP)\n",
    "## Representações Vetoriais e Similaridade de Textos\n",
    "Neste notebook, você aprenderá a aplicar diversas técnicas para representar textos numericamente (BoW, TF-IDF), como medir a similaridade entre documentos usando cosseno e como modelar tópicos com LDA."
   ]
  },
  {
   "cell_type": "markdown",
   "id": "8fb0444c",
   "metadata": {},
   "source": [
    "## 1. Representações Vetoriais\n",
    "Agora que temos textos pré-processados, precisamos representá-los numericamente para aplicar modelos.\n",
    "\n",
    "### 1.1 Corpus:\n",
    "Um corpus é uma coleção de documentos, usada como base para análise linguística e processamento de linguagem natural.\n",
    "\n",
    "Os próximos passos envolvem a construção de um corpus.\n",
    "\n",
    "Iremos criar um corpus, entender como o Bag of Words (BoW) funciona e como a representação TF-IDF pode ser aplicada.\n",
    "\n",
    "### 1.2 Bag of Words (BoW)\n",
    "Representa um texto como uma coleção de palavras, ignorando gramática e ordem, e focando apenas na frequência com que as palavras aparecem.\n",
    "\n",
    "1. **Contagem de Palavras**: Crie um dicionário que conta a frequência de cada palavra em um texto.\n",
    "2. **Representação BoW**: Construa uma matriz onde cada linha representa um documento e cada coluna representa uma palavra do vocabulário, preenchida com a contagem de palavras."
   ]
  },
  {
   "cell_type": "markdown",
   "id": "58b48613",
   "metadata": {},
   "source": [
    "### Exercício 1 - Crie um Corpus com os seguintes documentos:\n",
    "\n",
    "- `\"gato gosta de peixe\",`\n",
    "- `\"cachorro gosta de osso\"`\n",
    "- `\"peixe e osso são alimentos\"`"
   ]
  },
  {
   "cell_type": "markdown",
   "id": "7f185cbd",
   "metadata": {},
   "source": [
    "### Exercício 1.1 - BoW from scratch\n",
    "\n",
    "Construa uma representação BoW para o corpus criado no exercício 10. Utilize um dicionário para contar a frequência de cada palavra e crie uma matriz onde cada linha representa um documento e cada coluna representa uma palavra do vocabulário."
   ]
  },
  {
   "cell_type": "code",
   "execution_count": 14,
   "id": "6ac501b9",
   "metadata": {},
   "outputs": [],
   "source": [
    "# corpus\n",
    "\n",
    "# crie um vocabulario\n",
    "\n",
    "# crie a matriz\n"
   ]
  },
  {
   "cell_type": "markdown",
   "id": "fce3af01",
   "metadata": {},
   "source": [
    "### Exercício 1.2 - BoW com CountVectorizer\n",
    "Use `CountVectorizer` para gerar a matriz BoW."
   ]
  },
  {
   "cell_type": "code",
   "execution_count": null,
   "id": "b4dc8aae",
   "metadata": {},
   "outputs": [],
   "source": [
    "from sklearn.feature_extraction.text import CountVectorizer\n",
    "\n",
    "\n",
    "\n",
    "vectorizer = CountVectorizer()\n",
    "X = vectorizer.fit_transform(corpus)\n",
    "print(vectorizer.get_feature_names_out())\n",
    "print(X.toarray())"
   ]
  },
  {
   "cell_type": "markdown",
   "id": "cd5ea7df",
   "metadata": {},
   "source": [
    "### 2 TF-IDF (Term Frequency-Inverse Document Frequency)\n",
    "Ajusta a frequência com base em quão rara uma palavra é em outros documentos.\n",
    "\n",
    "- **TF**: Frequência de uma palavra em um documento.\n",
    "    - Fórmula: `TF(p, d) = contagem de p em d / total de palavras em d`\n",
    "- **IDF**: Inverso da frequência de documentos que contêm a palavra - mede o quanto uma palavra é rara nos documentos.\n",
    "  - Fórmula: `IDF(p) = log(total de documentos / contagem de documentos que contêm p)`\n",
    "  - Palavras muito comuns como \"o\" aparecem em todos os documentos e por isso têm IDF baixo → pouca importância.\n",
    "  - Palavras raras, como \"dormindo\" ou \"latindo\", aparecem em poucos documentos e por isso têm IDF alto → mais importantes.\n",
    "- **TF-IDF**: Produto de TF e IDF, representando a importância de uma palavra em um documento em relação ao corpus.\n",
    "    - Fórmula: `TF-IDF(p, d) = TF(p, d) * IDF(p)`\n",
    "- **Vantagens**: Reduz o peso de palavras comuns e aumenta o peso de palavras raras, melhorando a representação do texto.\n",
    "\n",
    "\n",
    "Pseudo-código para calcular TF-IDF:\n",
    "\n",
    "```\n",
    "para um documento d em documentos:\n",
    "    para cada palavra p em d:\n",
    "        tf = contagem de p em d / total de palavras em d\n",
    "        idf = log(total de documentos / contagem de documentos que contêm p)\n",
    "        tfidf[p] = tf * idf\n",
    "```\n"
   ]
  },
  {
   "cell_type": "markdown",
   "id": "fb0cc233",
   "metadata": {},
   "source": [
    "### Exercício 2.1 - TF-IDF from scratch\n",
    "Implemente a função `tfidf(corpus)` que calcula o TF-IDF para cada palavra em cada documento do corpus. Utilize o pseudo-código acima como referência."
   ]
  },
  {
   "cell_type": "code",
   "execution_count": null,
   "id": "f037ca77",
   "metadata": {},
   "outputs": [],
   "source": []
  },
  {
   "cell_type": "markdown",
   "id": "2b5d4002",
   "metadata": {},
   "source": [
    "### Exercício 2.2 - TF-IDF com TfidfVectorizer"
   ]
  },
  {
   "cell_type": "code",
   "execution_count": null,
   "id": "459352ca",
   "metadata": {},
   "outputs": [],
   "source": [
    "from sklearn.feature_extraction.text import TfidfVectorizer\n",
    "tfidf = TfidfVectorizer()\n",
    "X_tfidf = tfidf.fit_transform(corpus)\n",
    "print(tfidf.get_feature_names_out())\n",
    "print(X_tfidf.toarray())"
   ]
  },
  {
   "cell_type": "markdown",
   "id": "7acc5093",
   "metadata": {},
   "source": [
    "## 3. Similaridade\n",
    "A similaridade cosseno mede o quão parecidos dois vetores são com base no ângulo entre eles."
   ]
  },
  {
   "cell_type": "markdown",
   "id": "37437692",
   "metadata": {},
   "source": [
    "$$\n",
    "\\text{similaridade\\_cosseno}(\\vec{A}, \\vec{B}) = \\frac{\\vec{A} \\cdot \\vec{B}}{\\|\\vec{A}\\| \\cdot \\|\\vec{B}\\|} = \\frac{\\sum_{i=1}^{n} A_i B_i}{\\sqrt{\\sum_{i=1}^{n} A_i^2} \\cdot \\sqrt{\\sum_{i=1}^{n} B_i^2}}\n",
    "$$\n",
    "\n",
    "**Onde:**\n",
    "\n",
    "- O produto escalar dos vetores A e B mede o quanto os vetores \"apontam na mesma direção\".\n",
    "\n",
    "- ∥A∥ e ∥B∥: são os módulos (ou magnitudes) dos vetores A e B. Isso normaliza os vetores, ou seja, ignora o tamanho e foca na direção\n",
    "\n",
    "Imagine dois vetores apontando em direções diferentes.\n",
    "\n",
    "- Quanto mais próximos eles estiverem, **menor o ângulo entre eles**, o que resulta em uma **maior similaridade cosseno**.\n",
    "\n",
    "- Se eles apontam para a **mesma direção**, a similaridade cosseno será **1 (máxima similaridade)**.\n",
    "\n",
    "- Se forem **ortogonais (formam 90 graus)**, a similaridade será **0 (sem similaridade)**.\n",
    "\n",
    "- Se forem **opostos**, o valor será **-1 (totalmente opostos)**.\n"
   ]
  },
  {
   "cell_type": "markdown",
   "id": "40d9a6ef",
   "metadata": {},
   "source": [
    "### Exercício 3.1 - Crie uma função para calcular a similaridade cosseno entre dois vetores.\n",
    "\n",
    "dica: use a biblioteca `numpy` para facilitar os cálculos.\n",
    "\n",
    "`np.dot` e `np.linalg.norm`\n"
   ]
  },
  {
   "cell_type": "code",
   "execution_count": null,
   "id": "a4ce374a",
   "metadata": {},
   "outputs": [],
   "source": [
    "import numpy as np\n",
    "\n",
    "vetor_A = np.array([1, 2, 3])\n",
    "vetor_B = np.array([4, 5, 6])\n",
    "\n",
    "# calcule o produto escalar\n",
    "\n",
    "# calcule a norma do vetor_A\n",
    "\n",
    "# calcule a norma do vetor_B\n",
    "\n",
    "# similaridade_cosseno = produto_escalar / norma_A * norma_B"
   ]
  },
  {
   "cell_type": "markdown",
   "id": "efe28a08",
   "metadata": {},
   "source": [
    "### Exercício 3.2 - Teste sua função agora com os vetores abaixo:\n",
    "\n",
    "```python\n",
    "vetor_A = np.array([1, 2, 3])\n",
    "vetor_B = np.array([1, 2, 6])\n",
    "```\n",
    "\n",
    "**Notou alguma diferença em relação ao exercício anterior?**"
   ]
  },
  {
   "cell_type": "code",
   "execution_count": null,
   "id": "777d50ff",
   "metadata": {},
   "outputs": [],
   "source": [
    "vetor_A = np.array([1, 2, 3])\n",
    "vetor_B = np.array([1, 2, 6])\n"
   ]
  },
  {
   "cell_type": "markdown",
   "id": "78046dcf",
   "metadata": {},
   "source": [
    "### Exercício 3.3 - Agora aplique a função de similaridade cosseno entre os vetores gerados pelo `CountVectorizer` e `TfidfVectorizer`."
   ]
  },
  {
   "cell_type": "code",
   "execution_count": null,
   "id": "990dbd3c",
   "metadata": {},
   "outputs": [],
   "source": []
  },
  {
   "cell_type": "markdown",
   "id": "596556fe",
   "metadata": {},
   "source": [
    "## 4. Topic Modelling com LDA (Latent Dirichlet Allocation)\n",
    "\n",
    "### Introdução Teórica\n",
    "\n",
    "**Topic Modelling** é uma técnica de aprendizado não supervisionado usada para descobrir temas latentes em grandes coleções de documentos. Entre os métodos existentes, o **LDA (Latent Dirichlet Allocation)** é um dos mais populares.\n",
    "\n",
    "**O que o LDA faz?**\n",
    "- Assume que cada documento é uma mistura de tópicos.\n",
    "- Cada tópico é uma distribuição de palavras.\n",
    "- A partir disso, ele tenta descobrir automaticamente esses tópicos.\n",
    "\n",
    "**Intuição**:\n",
    "- Documento A pode conter 70% sobre \"esportes\" e 30% sobre \"política\".\n",
    "- Documento B pode conter 90% sobre \"moda\" e 10% sobre \"política\".\n",
    "- LDA tenta descobrir esses tópicos com base apenas nas palavras presentes.\n",
    "\n",
    "**Como funciona?**\n",
    "- Usa distribuições de probabilidade (Dirichlet) para modelar a mistura de tópicos por documento e palavras por tópico.\n",
    "- Treinado via métodos como colapsing Gibbs Sampling ou variational Bayes.\n"
   ]
  },
  {
   "cell_type": "markdown",
   "id": "738d6151",
   "metadata": {},
   "source": [
    "### Exercício 4.1 - Preparar os dados\n",
    "\n",
    "Antes de aplicar LDA, precisamos:\n",
    "- Tokenizar\n",
    "- Remover stopwords\n",
    "- Criar um dicionário e corpus no formato exigido pelo Gensim\n"
   ]
  },
  {
   "cell_type": "code",
   "execution_count": null,
   "id": "a9d29699",
   "metadata": {},
   "outputs": [],
   "source": [
    "!pip install nbconvert gensim pyLDAvis"
   ]
  },
  {
   "cell_type": "code",
   "execution_count": null,
   "id": "0c62ec66",
   "metadata": {},
   "outputs": [],
   "source": [
    "import nltk\n",
    "from nltk.corpus import stopwords\n",
    "from gensim import corpora\n",
    "import gensim\n",
    "import string\n",
    "\n",
    "# corpus de exemplo\n",
    "documents = [\n",
    "    \"O time venceu o jogo e comemorou com os torcedores.\",\n",
    "    \"A eleição presidencial terá segundo turno.\",\n",
    "    \"O novo smartphone da empresa foi lançado com sucesso.\",\n",
    "    \"Os jogadores treinaram forte para a próxima partida.\",\n",
    "    \"O governo anunciou novas medidas econômicas.\",\n",
    "    \"A tecnologia avança rapidamente com inteligência artificial.\",\n",
    "    \"A partida terminou empatada, apesar das chances criadas.\",\n",
    "    \"Debates políticos intensificam-se nas redes sociais.\",\n",
    "    \"A inovação em software transforma o mercado digital.\"\n",
    "]\n",
    "\n",
    "# Pré-processamento\n",
    "\n",
    "# criar dicionário e corpus\n"
   ]
  },
  {
   "cell_type": "code",
   "execution_count": null,
   "id": "a62b7054",
   "metadata": {},
   "outputs": [],
   "source": [
    "from gensim import corpora\n",
    "\n",
    "dictionary = corpora.Dictionary(processed_docs)\n",
    "corpus = [dictionary.doc2bow(text) for text in processed_docs]"
   ]
  },
  {
   "cell_type": "markdown",
   "id": "4d0240df",
   "metadata": {},
   "source": [
    "### Exercício 4.2 - Rodar o modelo LDA com Gensim\n"
   ]
  },
  {
   "cell_type": "code",
   "execution_count": null,
   "id": "5151d74b",
   "metadata": {},
   "outputs": [],
   "source": [
    "# selecione o número de tópicos\n",
    "num_topics = \n",
    "\n",
    "lda_model = gensim.models.LdaModel(\n",
    "    corpus=corpus,\n",
    "    id2word=dictionary,\n",
    "    num_topics=num_topics,\n",
    "    \n",
    "    random_state=42,\n",
    "    passes=10,\n",
    "    alpha='auto',\n",
    "    per_word_topics=True\n",
    ")\n",
    "\n",
    "# Mostrar os tópicos\n",
    "topics = lda_model.print_topics(num_words=5)\n",
    "for i, topic in topics:\n",
    "    print(f\"Tópico {i}: {topic}\")\n"
   ]
  },
  {
   "cell_type": "markdown",
   "id": "5e3090fb",
   "metadata": {},
   "source": [
    "A probabilidade da palavra w aparecer dado o tópico t"
   ]
  },
  {
   "cell_type": "markdown",
   "id": "326f7cc7",
   "metadata": {},
   "source": [
    "### Exercício 4.3 - Visualizar os tópicos com PyLDAVis\n",
    "\n",
    "PyLDAVis fornece uma visualização interativa dos tópicos.\n"
   ]
  },
  {
   "cell_type": "code",
   "execution_count": null,
   "id": "f3dbf302",
   "metadata": {},
   "outputs": [],
   "source": [
    "import pyLDAvis\n",
    "import pyLDAvis.gensim_models\n",
    "\n",
    "pyLDAvis.enable_notebook()\n",
    "vis = pyLDAvis.gensim_models.prepare(lda_model, corpus, dictionary)\n",
    "vis\n"
   ]
  },
  {
   "attachments": {
    "image.png": {
     "image/png": "[encoded data removed]"
    }
   },
   "cell_type": "markdown",
   "id": "198f6762",
   "metadata": {},
   "source": [
    "### Métrica de Relevância\n",
    "\n",
    "Define quais palavras são consideradas mais importantes para o tópico selecionado\n",
    "\n",
    "![image.png](attachment:image.png)\n",
    "\n",
    "Suponha que o Tópico 1 seja sobre política:\n",
    "\n",
    "Com λ=1.0: aparecem palavras como “governo”, “público” (frequentes no corpus todo).\n",
    "\n",
    "Com λ=0.0: aparecem termos mais específicos como “reeleição”, “coalizão” (menos frequentes, mais exclusivos)."
   ]
  },
  {
   "cell_type": "markdown",
   "id": "204e544a",
   "metadata": {},
   "source": [
    "- Se um tópico tem um círculo grande que se aproxima da linha de 10%, significa que ~10% das palavras de todos os documentos foram atribuídas a esse tópico.\n",
    "\n",
    "- Um tópico que mal aparece ou é do tamanho da linha de 2% é pouco prevalente no corpus.\n",
    "\n",
    "- Essa marginal distribution ajuda a ver quais tópicos dominam a coleção de textos, mesmo sem olhar os documentos."
   ]
  },
  {
   "cell_type": "markdown",
   "id": "e8147e43",
   "metadata": {},
   "source": [
    "### Será se o número de tópicos foi apropriado?"
   ]
  },
  {
   "cell_type": "code",
   "execution_count": null,
   "id": "66b0d89a",
   "metadata": {},
   "outputs": [],
   "source": [
    "from gensim.models import CoherenceModel\n",
    "\n",
    "coherence_model = CoherenceModel(model=lda_model, texts=processed_docs, dictionary=dictionary, coherence='c_v')\n",
    "coherence_score = coherence_model.get_coherence()\n",
    "print(f\"Coerência: {coherence_score}\")"
   ]
  },
  {
   "cell_type": "markdown",
   "id": "56890713",
   "metadata": {},
   "source": [
    "Vamos analisar a coerência dos tópicos gerados numa escala de 2 a 10.\n",
    "- Coerência de tópicos é uma métrica que avalia a qualidade dos tópicos gerados por um modelo de topic modeling.\n",
    "- Uma pontuação alta indica que as palavras em um tópico estão semanticamente relacionadas, enquanto uma pontuação baixa sugere que as palavras são mais aleatórias.\n",
    "- A pontuação de coerência varia de 0 a 1."
   ]
  },
  {
   "cell_type": "code",
   "execution_count": null,
   "id": "7df9e247",
   "metadata": {},
   "outputs": [],
   "source": [
    "from gensim.models import LdaModel\n",
    "from gensim.models import CoherenceModel\n",
    "\n",
    "scores = []\n",
    "for k in range(2, 11):  # testando de 2 a 10 tópicos\n",
    "    model = LdaModel(corpus=corpus, id2word=dictionary, num_topics=k, random_state=42, passes=10)\n",
    "    coherence = CoherenceModel(model=model, texts=processed_docs, dictionary=dictionary, coherence='c_v').get_coherence()\n",
    "    scores.append((k, coherence))\n",
    "\n",
    "for k, c in scores:\n",
    "    print(f\"{k} tópicos: Coerência = {c:.4f}\")\n"
   ]
  },
  {
   "cell_type": "markdown",
   "id": "f84c9900",
   "metadata": {},
   "source": [
    "### Vamos alterar o número de tópicos e ver como isso afeta a coerência dos tópicos gerados.\n",
    "- Analise e comente os resultados"
   ]
  },
  {
   "cell_type": "code",
   "execution_count": null,
   "id": "fe67751f",
   "metadata": {},
   "outputs": [],
   "source": []
  },
  {
   "cell_type": "markdown",
   "id": "0af60f78",
   "metadata": {},
   "source": [
    "### Extra - LDA com Scikit-learn\n",
    "\n",
    "O Scikit-learn também possui uma implementação de LDA em `sklearn.decomposition.LatentDirichletAllocation`. A principal diferença é que ele trabalha diretamente com a matriz de frequência de palavras, como a gerada pelo `CountVectorizer`.\n"
   ]
  },
  {
   "cell_type": "code",
   "execution_count": null,
   "id": "44bd467d",
   "metadata": {},
   "outputs": [],
   "source": [
    "from sklearn.feature_extraction.text import CountVectorizer\n",
    "from sklearn.decomposition import LatentDirichletAllocation\n",
    "\n",
    "# Transformar tokens de volta em strings\n",
    "cleaned_documents = [' '.join(doc) for doc in processed_docs]\n",
    "\n",
    "vectorizer = CountVectorizer()\n",
    "X = vectorizer.fit_transform(cleaned_documents)\n",
    "\n",
    "# Modelo LDA\n",
    "lda_sklearn = LatentDirichletAllocation(n_components=3, random_state=42)\n",
    "lda_sklearn.fit(X)\n",
    "\n",
    "# Mostrar os tópicos\n",
    "def display_topics(model, feature_names, no_top_words=5):\n",
    "    for topic_idx, topic in enumerate(model.components_):\n",
    "        top_words = [feature_names[i] for i in topic.argsort()[:-no_top_words - 1:-1]]\n",
    "        print(f\"Tópico {topic_idx}: {', '.join(top_words)}\")\n",
    "\n",
    "feature_names = vectorizer.get_feature_names_out()\n",
    "display_topics(lda_sklearn, feature_names)\n"
   ]
  },
  {
   "cell_type": "markdown",
   "id": "58a6f1a6",
   "metadata": {},
   "source": [
    "### Discussão\n",
    "\n",
    "Compare os resultados entre o modelo LDA do Gensim e o do Scikit-learn. Eles são similares? Houve alguma diferença relevante nos tópicos gerados?\n",
    "\n",
    "Responda no bloco abaixo:\n"
   ]
  },
  {
   "cell_type": "code",
   "execution_count": null,
   "id": "95305bfd",
   "metadata": {},
   "outputs": [],
   "source": [
    "# Escreva sua análise comparativa aqui\n"
   ]
  },
  {
   "cell_type": "markdown",
   "id": "61d03fa2",
   "metadata": {},
   "source": [
    "### Visualize os tópicos do LDA com Scikit-learn\n",
    "\n",
    "Vamos usar `matplotlib` para gerar uma visualização simples dos pesos das palavras por tópico.\n"
   ]
  },
  {
   "cell_type": "code",
   "execution_count": null,
   "id": "6456f6e2",
   "metadata": {},
   "outputs": [],
   "source": [
    "import matplotlib.pyplot as plt\n",
    "import numpy as np\n",
    "\n",
    "def plot_top_words(model, feature_names, n_top_words=10, title='Tópicos do LDA'):\n",
    "    fig, axes = plt.subplots(1, model.n_components, figsize=(15, 6), sharex=True)\n",
    "    axes = axes.flatten()\n",
    "    \n",
    "    for topic_idx, topic in enumerate(model.components_):\n",
    "        top_features_ind = topic.argsort()[:-n_top_words - 1:-1]\n",
    "        top_features = [feature_names[i] for i in top_features_ind]\n",
    "        weights = topic[top_features_ind]\n",
    "\n",
    "        ax = axes[topic_idx]\n",
    "        ax.barh(top_features, weights, height=0.7)\n",
    "        ax.set_title(f'Tópico {topic_idx + 1}', fontsize=14)\n",
    "        ax.invert_yaxis()\n",
    "        ax.tick_params(axis='both', which='major', labelsize=12)\n",
    "\n",
    "    fig.suptitle(title, fontsize=16)\n",
    "    plt.tight_layout()\n",
    "    plt.subplots_adjust(top=0.88)\n",
    "    plt.show()\n",
    "\n",
    "plot_top_words(lda_sklearn, feature_names)\n"
   ]
  }
 ],
 "metadata": {
  "kernelspec": {
   "display_name": "base",
   "language": "python",
   "name": "python3"
  },
  "language_info": {
   "codemirror_mode": {
    "name": "ipython",
    "version": 3
   },
   "file_extension": ".py",
   "mimetype": "text/x-python",
   "name": "python",
   "nbconvert_exporter": "python",
   "pygments_lexer": "ipython3",
   "version": "3.11.4"
  }
 },
 "nbformat": 4,
 "nbformat_minor": 5
}
